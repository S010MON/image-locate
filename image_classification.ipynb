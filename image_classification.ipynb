{
 "cells": [
  {
   "cell_type": "code",
   "execution_count": 40,
   "id": "a197d14f",
   "metadata": {
    "ExecuteTime": {
     "start_time": "2023-04-18T20:26:51.588645Z",
     "end_time": "2023-04-18T20:26:51.591349Z"
    }
   },
   "outputs": [],
   "source": [
    "import numpy as np\n",
    "import tensorflow as tf\n",
    "\n",
    "from keras.utils import load_img, img_to_array\n",
    "from keras.applications.vgg16 import VGG16, preprocess_input\n",
    "from keras.layers import Flatten, Dense, Dropout\n",
    "from keras import Model"
   ]
  },
  {
   "cell_type": "code",
   "execution_count": 61,
   "id": "a26a1706",
   "metadata": {
    "ExecuteTime": {
     "start_time": "2023-04-18T20:36:05.053782Z",
     "end_time": "2023-04-18T20:36:05.098722Z"
    }
   },
   "outputs": [],
   "source": [
    "def init_vgg16():\n",
    "\n",
    "    # Download the model with weights pre-trained using ImageNet database\n",
    "    vgg16 = VGG16(weights='imagenet', \n",
    "                  include_top=False,\n",
    "                  input_shape=(224,224,3))\n",
    "    \n",
    "    \n",
    "    # Freeze layers for training\n",
    "    for layer in vgg16.layers:\n",
    "        layer.trainable = False\n",
    "\n",
    "    # Create a new 'top' of the model of fully-connected layers\n",
    "    top_model = vgg16.output\n",
    "    top_model = Flatten(name=\"flatten\")(top_model)\n",
    "    top_model = Dense(4096, activation='relu', name=\"top_dense_1\")(top_model)\n",
    "    top_model = Dropout(0.2)(top_model)\n",
    "    top_model = Dense(512, activation='relu', name=\"top_dense_2\")(top_model)\n",
    "    top_model = Dropout(0.2)(top_model)\n",
    "    top_model = Dense(256, activation='relu', name=\"top_dense_3\")(top_model)\n",
    "    top_model = Dropout(0.2)(top_model)\n",
    "    top_model = Dense(128, activation='relu', name=\"top_dense_4\")(top_model)\n",
    "    top_model = Dropout(0.2)(top_model)\n",
    "    output_layer = Dense(1, activation='softmax', name=\"output\" )(top_model)\n",
    "    \n",
    "    # Group the convolutional base and new fully-connected layers into a Model object.\n",
    "    model = Model(inputs=vgg16.input, outputs=output_layer)\n",
    "\n",
    "    # Compiles the model for training.\n",
    "    model.compile(optimizer='adam', \n",
    "                  loss='binary_crossentropy',\n",
    "                  metrics=['accuracy'])\n",
    "    \n",
    "    return model\n"
   ]
  },
  {
   "cell_type": "code",
   "execution_count": 62,
   "outputs": [],
   "source": [
    "def load_and_preprocess_img(path: str):\n",
    "\n",
    "    img = load_img(path, target_size=(224, 224))\n",
    "    ary = img_to_array(img)\n",
    "    ary = np.expand_dims(ary, axis=0)\n",
    "    ary = preprocess_input(ary)\n",
    "    return ary[0]\n"
   ],
   "metadata": {
    "collapsed": false,
    "ExecuteTime": {
     "start_time": "2023-04-18T20:36:05.737211Z",
     "end_time": "2023-04-18T20:36:05.739317Z"
    }
   }
  },
  {
   "cell_type": "code",
   "execution_count": 63,
   "outputs": [],
   "source": [
    "from os import listdir\n",
    "\n",
    "def load_data(path: str, label: int):\n",
    "\n",
    "    X = []\n",
    "    y = []\n",
    "\n",
    "    for filename in listdir(path):\n",
    "        x = load_and_preprocess_img(path + filename)\n",
    "        X.append(x)\n",
    "        y.append(label)\n",
    "\n",
    "    return X, y\n"
   ],
   "metadata": {
    "collapsed": false,
    "ExecuteTime": {
     "start_time": "2023-04-18T20:36:06.210785Z",
     "end_time": "2023-04-18T20:36:06.213151Z"
    }
   }
  },
  {
   "cell_type": "code",
   "execution_count": 64,
   "outputs": [
    {
     "name": "stdout",
     "output_type": "stream",
     "text": [
      "X: (6767, 224, 224, 3)\n",
      "y: (6767,)\n"
     ]
    }
   ],
   "source": [
    "FILEPATH_POS = \"./out_pos/\"\n",
    "FILEPATH_NEG = \"./out_neg/\"\n",
    "\n",
    "X, y = load_data(FILEPATH_POS, 1)\n",
    "X_neg, y_neg = load_data(FILEPATH_NEG, 0)\n",
    "\n",
    "X.extend(X_neg)\n",
    "y.extend(y_neg)\n",
    "\n",
    "X = np.array(X)\n",
    "y = np.array(y)\n",
    "\n",
    "print(f\"X: {X.shape}\")\n",
    "print(f\"y: {y.shape}\")\n"
   ],
   "metadata": {
    "collapsed": false,
    "ExecuteTime": {
     "start_time": "2023-04-18T20:36:06.686471Z",
     "end_time": "2023-04-18T20:36:22.447477Z"
    }
   }
  },
  {
   "cell_type": "code",
   "execution_count": 65,
   "outputs": [],
   "source": [
    "from sklearn.model_selection import train_test_split\n",
    "\n",
    "X_train, X_test, y_train, y_test = train_test_split( X, y, test_size=0.33, random_state=42)"
   ],
   "metadata": {
    "collapsed": false,
    "ExecuteTime": {
     "start_time": "2023-04-18T20:36:22.448025Z",
     "end_time": "2023-04-18T20:36:22.892975Z"
    }
   }
  },
  {
   "cell_type": "code",
   "execution_count": 66,
   "id": "011c682d",
   "metadata": {
    "ExecuteTime": {
     "start_time": "2023-04-18T20:36:22.895317Z",
     "end_time": "2023-04-18T20:36:23.295420Z"
    }
   },
   "outputs": [
    {
     "name": "stdout",
     "output_type": "stream",
     "text": [
      "Model: \"model_1\"\n",
      "_________________________________________________________________\n",
      " Layer (type)                Output Shape              Param #   \n",
      "=================================================================\n",
      " input_2 (InputLayer)        [(None, 224, 224, 3)]     0         \n",
      "                                                                 \n",
      " block1_conv1 (Conv2D)       (None, 224, 224, 64)      1792      \n",
      "                                                                 \n",
      " block1_conv2 (Conv2D)       (None, 224, 224, 64)      36928     \n",
      "                                                                 \n",
      " block1_pool (MaxPooling2D)  (None, 112, 112, 64)      0         \n",
      "                                                                 \n",
      " block2_conv1 (Conv2D)       (None, 112, 112, 128)     73856     \n",
      "                                                                 \n",
      " block2_conv2 (Conv2D)       (None, 112, 112, 128)     147584    \n",
      "                                                                 \n",
      " block2_pool (MaxPooling2D)  (None, 56, 56, 128)       0         \n",
      "                                                                 \n",
      " block3_conv1 (Conv2D)       (None, 56, 56, 256)       295168    \n",
      "                                                                 \n",
      " block3_conv2 (Conv2D)       (None, 56, 56, 256)       590080    \n",
      "                                                                 \n",
      " block3_conv3 (Conv2D)       (None, 56, 56, 256)       590080    \n",
      "                                                                 \n",
      " block3_pool (MaxPooling2D)  (None, 28, 28, 256)       0         \n",
      "                                                                 \n",
      " block4_conv1 (Conv2D)       (None, 28, 28, 512)       1180160   \n",
      "                                                                 \n",
      " block4_conv2 (Conv2D)       (None, 28, 28, 512)       2359808   \n",
      "                                                                 \n",
      " block4_conv3 (Conv2D)       (None, 28, 28, 512)       2359808   \n",
      "                                                                 \n",
      " block4_pool (MaxPooling2D)  (None, 14, 14, 512)       0         \n",
      "                                                                 \n",
      " block5_conv1 (Conv2D)       (None, 14, 14, 512)       2359808   \n",
      "                                                                 \n",
      " block5_conv2 (Conv2D)       (None, 14, 14, 512)       2359808   \n",
      "                                                                 \n",
      " block5_conv3 (Conv2D)       (None, 14, 14, 512)       2359808   \n",
      "                                                                 \n",
      " block5_pool (MaxPooling2D)  (None, 7, 7, 512)         0         \n",
      "                                                                 \n",
      " flatten (Flatten)           (None, 25088)             0         \n",
      "                                                                 \n",
      " top_dense_1 (Dense)         (None, 4096)              102764544 \n",
      "                                                                 \n",
      " dropout_4 (Dropout)         (None, 4096)              0         \n",
      "                                                                 \n",
      " top_dense_2 (Dense)         (None, 512)               2097664   \n",
      "                                                                 \n",
      " dropout_5 (Dropout)         (None, 512)               0         \n",
      "                                                                 \n",
      " top_dense_3 (Dense)         (None, 256)               131328    \n",
      "                                                                 \n",
      " dropout_6 (Dropout)         (None, 256)               0         \n",
      "                                                                 \n",
      " top_dense_4 (Dense)         (None, 128)               32896     \n",
      "                                                                 \n",
      " dropout_7 (Dropout)         (None, 128)               0         \n",
      "                                                                 \n",
      " output (Dense)              (None, 1)                 129       \n",
      "                                                                 \n",
      "=================================================================\n",
      "Total params: 119,741,249\n",
      "Trainable params: 105,026,561\n",
      "Non-trainable params: 14,714,688\n",
      "_________________________________________________________________\n"
     ]
    }
   ],
   "source": [
    "model = init_vgg16()\n",
    "model.summary()"
   ]
  },
  {
   "cell_type": "code",
   "execution_count": 67,
   "id": "763f3710",
   "metadata": {
    "ExecuteTime": {
     "start_time": "2023-04-18T20:36:24.962196Z",
     "end_time": "2023-04-18T20:42:04.163627Z"
    }
   },
   "outputs": [
    {
     "name": "stderr",
     "output_type": "stream",
     "text": [
      "2023-04-18 20:36:23.254836: W tensorflow/tsl/framework/cpu_allocator_impl.cc:83] Allocation of 2729373696 exceeds 10% of free system memory.\n"
     ]
    },
    {
     "name": "stdout",
     "output_type": "stream",
     "text": [
      "142/142 [==============================] - 339s 2s/step - loss: 4.0402 - accuracy: 0.9173\n"
     ]
    },
    {
     "data": {
      "text/plain": "<keras.callbacks.History at 0x7fcfa3755b90>"
     },
     "execution_count": 67,
     "metadata": {},
     "output_type": "execute_result"
    }
   ],
   "source": [
    "model.fit(X_train, y_train, batch_size=32, epochs=1)"
   ]
  },
  {
   "cell_type": "code",
   "execution_count": 68,
   "outputs": [
    {
     "name": "stdout",
     "output_type": "stream",
     "text": [
      "70/70 [==============================] - 120s 2s/step - loss: 0.3038 - accuracy: 0.9114\n"
     ]
    },
    {
     "data": {
      "text/plain": "[0.3037729263305664, 0.9113697409629822]"
     },
     "execution_count": 68,
     "metadata": {},
     "output_type": "execute_result"
    }
   ],
   "source": [
    "model.evaluate(X_test, y_test, batch_size=32)"
   ],
   "metadata": {
    "collapsed": false,
    "ExecuteTime": {
     "start_time": "2023-04-18T20:42:09.821943Z",
     "end_time": "2023-04-18T20:44:10.028460Z"
    }
   }
  },
  {
   "cell_type": "code",
   "execution_count": null,
   "outputs": [],
   "source": [],
   "metadata": {
    "collapsed": false
   }
  }
 ],
 "metadata": {
  "kernelspec": {
   "display_name": "Python 3 (ipykernel)",
   "language": "python",
   "name": "python3"
  },
  "language_info": {
   "codemirror_mode": {
    "name": "ipython",
    "version": 3
   },
   "file_extension": ".py",
   "mimetype": "text/x-python",
   "name": "python",
   "nbconvert_exporter": "python",
   "pygments_lexer": "ipython3",
   "version": "3.9.12"
  }
 },
 "nbformat": 4,
 "nbformat_minor": 5
}
