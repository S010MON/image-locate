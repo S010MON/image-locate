{
 "cells": [
  {
   "cell_type": "code",
   "execution_count": 1,
   "id": "d91ac574",
   "metadata": {},
   "outputs": [
    {
     "name": "stdout",
     "output_type": "stream",
     "text": [
      "Requirement already satisfied: Jupyter in /usr/local/lib/python3.8/dist-packages (from -r requirements.txt (line 1)) (1.0.0)\n",
      "Requirement already satisfied: numpy>=1.23.5 in /usr/local/lib/python3.8/dist-packages (from -r requirements.txt (line 2)) (1.23.5)\n",
      "Requirement already satisfied: tensorflow>=2.12.0 in /usr/local/lib/python3.8/dist-packages (from -r requirements.txt (line 3)) (2.12.0)\n",
      "Requirement already satisfied: keras>=2.12.0 in /usr/local/lib/python3.8/dist-packages (from -r requirements.txt (line 4)) (2.12.0)\n",
      "Requirement already satisfied: Pillow>=9.3 in /usr/local/lib/python3.8/dist-packages (from -r requirements.txt (line 5)) (9.4.0)\n",
      "Collecting scikit-learn\n",
      "  Downloading scikit_learn-1.2.2-cp38-cp38-manylinux_2_17_x86_64.manylinux2014_x86_64.whl (9.8 MB)\n",
      "\u001b[2K     \u001b[90m━━━━━━━━━━━━━━━━━━━━━━━━━━━━━━━━━━━━━━━━\u001b[0m \u001b[32m9.8/9.8 MB\u001b[0m \u001b[31m10.9 MB/s\u001b[0m eta \u001b[36m0:00:00\u001b[0m00:01\u001b[0m00:01\u001b[0m\n",
      "\u001b[?25hRequirement already satisfied: matplotlib in /usr/local/lib/python3.8/dist-packages (from -r requirements.txt (line 7)) (3.7.1)\n",
      "Requirement already satisfied: ipywidgets in /usr/local/lib/python3.8/dist-packages (from Jupyter->-r requirements.txt (line 1)) (8.0.5)\n",
      "Requirement already satisfied: qtconsole in /usr/local/lib/python3.8/dist-packages (from Jupyter->-r requirements.txt (line 1)) (5.4.1)\n",
      "Requirement already satisfied: jupyter-console in /usr/local/lib/python3.8/dist-packages (from Jupyter->-r requirements.txt (line 1)) (6.6.3)\n",
      "Requirement already satisfied: nbconvert in /usr/local/lib/python3.8/dist-packages (from Jupyter->-r requirements.txt (line 1)) (7.2.10)\n",
      "Requirement already satisfied: ipykernel in /usr/local/lib/python3.8/dist-packages (from Jupyter->-r requirements.txt (line 1)) (6.22.0)\n",
      "Requirement already satisfied: notebook in /usr/local/lib/python3.8/dist-packages (from Jupyter->-r requirements.txt (line 1)) (6.5.3)\n",
      "Requirement already satisfied: libclang>=13.0.0 in /usr/local/lib/python3.8/dist-packages (from tensorflow>=2.12.0->-r requirements.txt (line 3)) (16.0.0)\n",
      "Requirement already satisfied: astunparse>=1.6.0 in /usr/local/lib/python3.8/dist-packages (from tensorflow>=2.12.0->-r requirements.txt (line 3)) (1.6.3)\n",
      "Requirement already satisfied: typing-extensions>=3.6.6 in /usr/local/lib/python3.8/dist-packages (from tensorflow>=2.12.0->-r requirements.txt (line 3)) (4.5.0)\n",
      "Requirement already satisfied: opt-einsum>=2.3.2 in /usr/local/lib/python3.8/dist-packages (from tensorflow>=2.12.0->-r requirements.txt (line 3)) (3.3.0)\n",
      "Requirement already satisfied: h5py>=2.9.0 in /usr/local/lib/python3.8/dist-packages (from tensorflow>=2.12.0->-r requirements.txt (line 3)) (3.8.0)\n",
      "Requirement already satisfied: protobuf!=4.21.0,!=4.21.1,!=4.21.2,!=4.21.3,!=4.21.4,!=4.21.5,<5.0.0dev,>=3.20.3 in /usr/local/lib/python3.8/dist-packages (from tensorflow>=2.12.0->-r requirements.txt (line 3)) (4.22.1)\n",
      "Requirement already satisfied: google-pasta>=0.1.1 in /usr/local/lib/python3.8/dist-packages (from tensorflow>=2.12.0->-r requirements.txt (line 3)) (0.2.0)\n",
      "Requirement already satisfied: jax>=0.3.15 in /usr/local/lib/python3.8/dist-packages (from tensorflow>=2.12.0->-r requirements.txt (line 3)) (0.4.6)\n",
      "Requirement already satisfied: packaging in /usr/local/lib/python3.8/dist-packages (from tensorflow>=2.12.0->-r requirements.txt (line 3)) (23.0)\n",
      "Requirement already satisfied: tensorflow-io-gcs-filesystem>=0.23.1 in /usr/local/lib/python3.8/dist-packages (from tensorflow>=2.12.0->-r requirements.txt (line 3)) (0.31.0)\n",
      "Requirement already satisfied: absl-py>=1.0.0 in /usr/local/lib/python3.8/dist-packages (from tensorflow>=2.12.0->-r requirements.txt (line 3)) (1.4.0)\n",
      "Requirement already satisfied: six>=1.12.0 in /usr/lib/python3/dist-packages (from tensorflow>=2.12.0->-r requirements.txt (line 3)) (1.14.0)\n",
      "Requirement already satisfied: flatbuffers>=2.0 in /usr/local/lib/python3.8/dist-packages (from tensorflow>=2.12.0->-r requirements.txt (line 3)) (23.3.3)\n",
      "Requirement already satisfied: gast<=0.4.0,>=0.2.1 in /usr/local/lib/python3.8/dist-packages (from tensorflow>=2.12.0->-r requirements.txt (line 3)) (0.4.0)\n",
      "Requirement already satisfied: tensorflow-estimator<2.13,>=2.12.0 in /usr/local/lib/python3.8/dist-packages (from tensorflow>=2.12.0->-r requirements.txt (line 3)) (2.12.0)\n",
      "Requirement already satisfied: wrapt<1.15,>=1.11.0 in /usr/local/lib/python3.8/dist-packages (from tensorflow>=2.12.0->-r requirements.txt (line 3)) (1.14.1)\n",
      "Requirement already satisfied: grpcio<2.0,>=1.24.3 in /usr/local/lib/python3.8/dist-packages (from tensorflow>=2.12.0->-r requirements.txt (line 3)) (1.51.3)\n",
      "Requirement already satisfied: setuptools in /usr/local/lib/python3.8/dist-packages (from tensorflow>=2.12.0->-r requirements.txt (line 3)) (67.6.0)\n",
      "Requirement already satisfied: tensorboard<2.13,>=2.12 in /usr/local/lib/python3.8/dist-packages (from tensorflow>=2.12.0->-r requirements.txt (line 3)) (2.12.0)\n",
      "Requirement already satisfied: termcolor>=1.1.0 in /usr/local/lib/python3.8/dist-packages (from tensorflow>=2.12.0->-r requirements.txt (line 3)) (2.2.0)\n",
      "Collecting joblib>=1.1.1\n",
      "  Downloading joblib-1.2.0-py3-none-any.whl (297 kB)\n",
      "\u001b[2K     \u001b[90m━━━━━━━━━━━━━━━━━━━━━━━━━━━━━━━━━━━━━━━\u001b[0m \u001b[32m298.0/298.0 kB\u001b[0m \u001b[31m8.1 MB/s\u001b[0m eta \u001b[36m0:00:00\u001b[0m00:01\u001b[0m\n",
      "\u001b[?25hRequirement already satisfied: scipy>=1.3.2 in /usr/local/lib/python3.8/dist-packages (from scikit-learn->-r requirements.txt (line 6)) (1.10.1)\n",
      "Collecting threadpoolctl>=2.0.0\n",
      "  Downloading threadpoolctl-3.1.0-py3-none-any.whl (14 kB)\n",
      "Requirement already satisfied: kiwisolver>=1.0.1 in /usr/local/lib/python3.8/dist-packages (from matplotlib->-r requirements.txt (line 7)) (1.4.4)\n",
      "Requirement already satisfied: python-dateutil>=2.7 in /usr/local/lib/python3.8/dist-packages (from matplotlib->-r requirements.txt (line 7)) (2.8.2)\n",
      "Requirement already satisfied: importlib-resources>=3.2.0 in /usr/local/lib/python3.8/dist-packages (from matplotlib->-r requirements.txt (line 7)) (5.12.0)\n",
      "Requirement already satisfied: fonttools>=4.22.0 in /usr/local/lib/python3.8/dist-packages (from matplotlib->-r requirements.txt (line 7)) (4.39.2)\n",
      "Requirement already satisfied: cycler>=0.10 in /usr/local/lib/python3.8/dist-packages (from matplotlib->-r requirements.txt (line 7)) (0.11.0)\n",
      "Requirement already satisfied: contourpy>=1.0.1 in /usr/local/lib/python3.8/dist-packages (from matplotlib->-r requirements.txt (line 7)) (1.0.7)\n",
      "Requirement already satisfied: pyparsing>=2.3.1 in /usr/local/lib/python3.8/dist-packages (from matplotlib->-r requirements.txt (line 7)) (3.0.9)\n",
      "Requirement already satisfied: wheel<1.0,>=0.23.0 in /usr/local/lib/python3.8/dist-packages (from astunparse>=1.6.0->tensorflow>=2.12.0->-r requirements.txt (line 3)) (0.40.0)\n",
      "Requirement already satisfied: zipp>=3.1.0 in /usr/local/lib/python3.8/dist-packages (from importlib-resources>=3.2.0->matplotlib->-r requirements.txt (line 7)) (3.15.0)\n",
      "Requirement already satisfied: google-auth<3,>=1.6.3 in /usr/local/lib/python3.8/dist-packages (from tensorboard<2.13,>=2.12->tensorflow>=2.12.0->-r requirements.txt (line 3)) (2.16.2)\n",
      "Requirement already satisfied: requests<3,>=2.21.0 in /usr/lib/python3/dist-packages (from tensorboard<2.13,>=2.12->tensorflow>=2.12.0->-r requirements.txt (line 3)) (2.22.0)\n",
      "Requirement already satisfied: tensorboard-plugin-wit>=1.6.0 in /usr/local/lib/python3.8/dist-packages (from tensorboard<2.13,>=2.12->tensorflow>=2.12.0->-r requirements.txt (line 3)) (1.8.1)\n",
      "Requirement already satisfied: tensorboard-data-server<0.8.0,>=0.7.0 in /usr/local/lib/python3.8/dist-packages (from tensorboard<2.13,>=2.12->tensorflow>=2.12.0->-r requirements.txt (line 3)) (0.7.0)\n",
      "Requirement already satisfied: google-auth-oauthlib<0.5,>=0.4.1 in /usr/local/lib/python3.8/dist-packages (from tensorboard<2.13,>=2.12->tensorflow>=2.12.0->-r requirements.txt (line 3)) (0.4.6)\n",
      "Requirement already satisfied: werkzeug>=1.0.1 in /usr/local/lib/python3.8/dist-packages (from tensorboard<2.13,>=2.12->tensorflow>=2.12.0->-r requirements.txt (line 3)) (2.2.3)\n",
      "Requirement already satisfied: markdown>=2.6.8 in /usr/local/lib/python3.8/dist-packages (from tensorboard<2.13,>=2.12->tensorflow>=2.12.0->-r requirements.txt (line 3)) (3.4.3)\n",
      "Requirement already satisfied: traitlets>=5.4.0 in /usr/local/lib/python3.8/dist-packages (from ipykernel->Jupyter->-r requirements.txt (line 1)) (5.9.0)\n",
      "Requirement already satisfied: debugpy>=1.6.5 in /usr/local/lib/python3.8/dist-packages (from ipykernel->Jupyter->-r requirements.txt (line 1)) (1.6.6)\n",
      "Requirement already satisfied: jupyter-core!=5.0.*,>=4.12 in /usr/local/lib/python3.8/dist-packages (from ipykernel->Jupyter->-r requirements.txt (line 1)) (5.3.0)\n",
      "Requirement already satisfied: jupyter-client>=6.1.12 in /usr/local/lib/python3.8/dist-packages (from ipykernel->Jupyter->-r requirements.txt (line 1)) (8.1.0)\n",
      "Requirement already satisfied: tornado>=6.1 in /usr/local/lib/python3.8/dist-packages (from ipykernel->Jupyter->-r requirements.txt (line 1)) (6.2)\n",
      "Requirement already satisfied: nest-asyncio in /usr/local/lib/python3.8/dist-packages (from ipykernel->Jupyter->-r requirements.txt (line 1)) (1.5.6)\n",
      "Requirement already satisfied: comm>=0.1.1 in /usr/local/lib/python3.8/dist-packages (from ipykernel->Jupyter->-r requirements.txt (line 1)) (0.1.3)\n",
      "Requirement already satisfied: matplotlib-inline>=0.1 in /usr/local/lib/python3.8/dist-packages (from ipykernel->Jupyter->-r requirements.txt (line 1)) (0.1.6)\n",
      "Requirement already satisfied: pyzmq>=20 in /usr/local/lib/python3.8/dist-packages (from ipykernel->Jupyter->-r requirements.txt (line 1)) (25.0.2)\n",
      "Requirement already satisfied: ipython>=7.23.1 in /usr/local/lib/python3.8/dist-packages (from ipykernel->Jupyter->-r requirements.txt (line 1)) (8.11.0)\n",
      "Requirement already satisfied: psutil in /usr/local/lib/python3.8/dist-packages (from ipykernel->Jupyter->-r requirements.txt (line 1)) (5.9.4)\n",
      "Requirement already satisfied: jupyterlab-widgets~=3.0 in /usr/local/lib/python3.8/dist-packages (from ipywidgets->Jupyter->-r requirements.txt (line 1)) (3.0.6)\n",
      "Requirement already satisfied: widgetsnbextension~=4.0 in /usr/local/lib/python3.8/dist-packages (from ipywidgets->Jupyter->-r requirements.txt (line 1)) (4.0.6)\n",
      "Requirement already satisfied: prompt-toolkit>=3.0.30 in /usr/local/lib/python3.8/dist-packages (from jupyter-console->Jupyter->-r requirements.txt (line 1)) (3.0.38)\n",
      "Requirement already satisfied: pygments in /usr/local/lib/python3.8/dist-packages (from jupyter-console->Jupyter->-r requirements.txt (line 1)) (2.14.0)\n",
      "Requirement already satisfied: bleach in /usr/local/lib/python3.8/dist-packages (from nbconvert->Jupyter->-r requirements.txt (line 1)) (6.0.0)\n",
      "Requirement already satisfied: nbformat>=5.1 in /usr/local/lib/python3.8/dist-packages (from nbconvert->Jupyter->-r requirements.txt (line 1)) (5.8.0)\n",
      "Requirement already satisfied: tinycss2 in /usr/local/lib/python3.8/dist-packages (from nbconvert->Jupyter->-r requirements.txt (line 1)) (1.2.1)\n",
      "Requirement already satisfied: pandocfilters>=1.4.1 in /usr/local/lib/python3.8/dist-packages (from nbconvert->Jupyter->-r requirements.txt (line 1)) (1.5.0)\n",
      "Requirement already satisfied: jinja2>=3.0 in /usr/local/lib/python3.8/dist-packages (from nbconvert->Jupyter->-r requirements.txt (line 1)) (3.1.2)\n",
      "Requirement already satisfied: nbclient>=0.5.0 in /usr/local/lib/python3.8/dist-packages (from nbconvert->Jupyter->-r requirements.txt (line 1)) (0.7.2)\n",
      "Requirement already satisfied: jupyterlab-pygments in /usr/local/lib/python3.8/dist-packages (from nbconvert->Jupyter->-r requirements.txt (line 1)) (0.2.2)\n",
      "Requirement already satisfied: importlib-metadata>=3.6 in /usr/local/lib/python3.8/dist-packages (from nbconvert->Jupyter->-r requirements.txt (line 1)) (6.1.0)\n",
      "Requirement already satisfied: defusedxml in /usr/local/lib/python3.8/dist-packages (from nbconvert->Jupyter->-r requirements.txt (line 1)) (0.7.1)\n",
      "Requirement already satisfied: beautifulsoup4 in /usr/local/lib/python3.8/dist-packages (from nbconvert->Jupyter->-r requirements.txt (line 1)) (4.12.0)\n",
      "Requirement already satisfied: markupsafe>=2.0 in /usr/local/lib/python3.8/dist-packages (from nbconvert->Jupyter->-r requirements.txt (line 1)) (2.1.2)\n",
      "Requirement already satisfied: mistune<3,>=2.0.3 in /usr/local/lib/python3.8/dist-packages (from nbconvert->Jupyter->-r requirements.txt (line 1)) (2.0.5)\n"
     ]
    },
    {
     "name": "stdout",
     "output_type": "stream",
     "text": [
      "Requirement already satisfied: argon2-cffi in /usr/local/lib/python3.8/dist-packages (from notebook->Jupyter->-r requirements.txt (line 1)) (21.3.0)\n",
      "Requirement already satisfied: prometheus-client in /usr/local/lib/python3.8/dist-packages (from notebook->Jupyter->-r requirements.txt (line 1)) (0.16.0)\n",
      "Requirement already satisfied: terminado>=0.8.3 in /usr/local/lib/python3.8/dist-packages (from notebook->Jupyter->-r requirements.txt (line 1)) (0.17.1)\n",
      "Requirement already satisfied: Send2Trash>=1.8.0 in /usr/local/lib/python3.8/dist-packages (from notebook->Jupyter->-r requirements.txt (line 1)) (1.8.0)\n",
      "Requirement already satisfied: ipython-genutils in /usr/local/lib/python3.8/dist-packages (from notebook->Jupyter->-r requirements.txt (line 1)) (0.2.0)\n",
      "Requirement already satisfied: nbclassic>=0.4.7 in /usr/local/lib/python3.8/dist-packages (from notebook->Jupyter->-r requirements.txt (line 1)) (0.5.3)\n",
      "Requirement already satisfied: qtpy>=2.0.1 in /usr/local/lib/python3.8/dist-packages (from qtconsole->Jupyter->-r requirements.txt (line 1)) (2.3.0)\n",
      "Requirement already satisfied: cachetools<6.0,>=2.0.0 in /usr/local/lib/python3.8/dist-packages (from google-auth<3,>=1.6.3->tensorboard<2.13,>=2.12->tensorflow>=2.12.0->-r requirements.txt (line 3)) (5.3.0)\n",
      "Requirement already satisfied: pyasn1-modules>=0.2.1 in /usr/local/lib/python3.8/dist-packages (from google-auth<3,>=1.6.3->tensorboard<2.13,>=2.12->tensorflow>=2.12.0->-r requirements.txt (line 3)) (0.2.8)\n",
      "Requirement already satisfied: rsa<5,>=3.1.4 in /usr/local/lib/python3.8/dist-packages (from google-auth<3,>=1.6.3->tensorboard<2.13,>=2.12->tensorflow>=2.12.0->-r requirements.txt (line 3)) (4.9)\n",
      "Requirement already satisfied: requests-oauthlib>=0.7.0 in /usr/local/lib/python3.8/dist-packages (from google-auth-oauthlib<0.5,>=0.4.1->tensorboard<2.13,>=2.12->tensorflow>=2.12.0->-r requirements.txt (line 3)) (1.3.1)\n",
      "Requirement already satisfied: decorator in /usr/local/lib/python3.8/dist-packages (from ipython>=7.23.1->ipykernel->Jupyter->-r requirements.txt (line 1)) (5.1.1)\n",
      "Requirement already satisfied: backcall in /usr/local/lib/python3.8/dist-packages (from ipython>=7.23.1->ipykernel->Jupyter->-r requirements.txt (line 1)) (0.2.0)\n",
      "Requirement already satisfied: pexpect>4.3 in /usr/local/lib/python3.8/dist-packages (from ipython>=7.23.1->ipykernel->Jupyter->-r requirements.txt (line 1)) (4.8.0)\n",
      "Requirement already satisfied: jedi>=0.16 in /usr/local/lib/python3.8/dist-packages (from ipython>=7.23.1->ipykernel->Jupyter->-r requirements.txt (line 1)) (0.18.2)\n",
      "Requirement already satisfied: stack-data in /usr/local/lib/python3.8/dist-packages (from ipython>=7.23.1->ipykernel->Jupyter->-r requirements.txt (line 1)) (0.6.2)\n",
      "Requirement already satisfied: pickleshare in /usr/local/lib/python3.8/dist-packages (from ipython>=7.23.1->ipykernel->Jupyter->-r requirements.txt (line 1)) (0.7.5)\n",
      "Requirement already satisfied: platformdirs>=2.5 in /usr/local/lib/python3.8/dist-packages (from jupyter-core!=5.0.*,>=4.12->ipykernel->Jupyter->-r requirements.txt (line 1)) (3.1.1)\n",
      "Requirement already satisfied: notebook-shim>=0.1.0 in /usr/local/lib/python3.8/dist-packages (from nbclassic>=0.4.7->notebook->Jupyter->-r requirements.txt (line 1)) (0.2.2)\n",
      "Requirement already satisfied: jupyter-server>=1.8 in /usr/local/lib/python3.8/dist-packages (from nbclassic>=0.4.7->notebook->Jupyter->-r requirements.txt (line 1)) (2.5.0)\n",
      "Requirement already satisfied: fastjsonschema in /usr/local/lib/python3.8/dist-packages (from nbformat>=5.1->nbconvert->Jupyter->-r requirements.txt (line 1)) (2.16.3)\n",
      "Requirement already satisfied: jsonschema>=2.6 in /usr/local/lib/python3.8/dist-packages (from nbformat>=5.1->nbconvert->Jupyter->-r requirements.txt (line 1)) (4.17.3)\n",
      "Requirement already satisfied: wcwidth in /usr/local/lib/python3.8/dist-packages (from prompt-toolkit>=3.0.30->jupyter-console->Jupyter->-r requirements.txt (line 1)) (0.2.6)\n",
      "Requirement already satisfied: ptyprocess in /usr/local/lib/python3.8/dist-packages (from terminado>=0.8.3->notebook->Jupyter->-r requirements.txt (line 1)) (0.7.0)\n",
      "Requirement already satisfied: argon2-cffi-bindings in /usr/local/lib/python3.8/dist-packages (from argon2-cffi->notebook->Jupyter->-r requirements.txt (line 1)) (21.2.0)\n",
      "Requirement already satisfied: soupsieve>1.2 in /usr/local/lib/python3.8/dist-packages (from beautifulsoup4->nbconvert->Jupyter->-r requirements.txt (line 1)) (2.4)\n",
      "Requirement already satisfied: webencodings in /usr/local/lib/python3.8/dist-packages (from bleach->nbconvert->Jupyter->-r requirements.txt (line 1)) (0.5.1)\n",
      "Requirement already satisfied: parso<0.9.0,>=0.8.0 in /usr/local/lib/python3.8/dist-packages (from jedi>=0.16->ipython>=7.23.1->ipykernel->Jupyter->-r requirements.txt (line 1)) (0.8.3)\n",
      "Requirement already satisfied: attrs>=17.4.0 in /usr/local/lib/python3.8/dist-packages (from jsonschema>=2.6->nbformat>=5.1->nbconvert->Jupyter->-r requirements.txt (line 1)) (22.2.0)\n",
      "Requirement already satisfied: pyrsistent!=0.17.0,!=0.17.1,!=0.17.2,>=0.14.0 in /usr/local/lib/python3.8/dist-packages (from jsonschema>=2.6->nbformat>=5.1->nbconvert->Jupyter->-r requirements.txt (line 1)) (0.19.3)\n",
      "Requirement already satisfied: pkgutil-resolve-name>=1.3.10 in /usr/local/lib/python3.8/dist-packages (from jsonschema>=2.6->nbformat>=5.1->nbconvert->Jupyter->-r requirements.txt (line 1)) (1.3.10)\n",
      "Requirement already satisfied: anyio>=3.1.0 in /usr/local/lib/python3.8/dist-packages (from jupyter-server>=1.8->nbclassic>=0.4.7->notebook->Jupyter->-r requirements.txt (line 1)) (3.6.2)\n",
      "Requirement already satisfied: jupyter-events>=0.4.0 in /usr/local/lib/python3.8/dist-packages (from jupyter-server>=1.8->nbclassic>=0.4.7->notebook->Jupyter->-r requirements.txt (line 1)) (0.6.3)\n",
      "Requirement already satisfied: jupyter-server-terminals in /usr/local/lib/python3.8/dist-packages (from jupyter-server>=1.8->nbclassic>=0.4.7->notebook->Jupyter->-r requirements.txt (line 1)) (0.4.4)\n",
      "Requirement already satisfied: websocket-client in /usr/local/lib/python3.8/dist-packages (from jupyter-server>=1.8->nbclassic>=0.4.7->notebook->Jupyter->-r requirements.txt (line 1)) (1.5.1)\n",
      "Requirement already satisfied: pyasn1<0.5.0,>=0.4.6 in /usr/local/lib/python3.8/dist-packages (from pyasn1-modules>=0.2.1->google-auth<3,>=1.6.3->tensorboard<2.13,>=2.12->tensorflow>=2.12.0->-r requirements.txt (line 3)) (0.4.8)\n",
      "Requirement already satisfied: oauthlib>=3.0.0 in /usr/local/lib/python3.8/dist-packages (from requests-oauthlib>=0.7.0->google-auth-oauthlib<0.5,>=0.4.1->tensorboard<2.13,>=2.12->tensorflow>=2.12.0->-r requirements.txt (line 3)) (3.2.2)\n",
      "Requirement already satisfied: cffi>=1.0.1 in /usr/local/lib/python3.8/dist-packages (from argon2-cffi-bindings->argon2-cffi->notebook->Jupyter->-r requirements.txt (line 1)) (1.15.1)\n",
      "Requirement already satisfied: asttokens>=2.1.0 in /usr/local/lib/python3.8/dist-packages (from stack-data->ipython>=7.23.1->ipykernel->Jupyter->-r requirements.txt (line 1)) (2.2.1)\n",
      "Requirement already satisfied: pure-eval in /usr/local/lib/python3.8/dist-packages (from stack-data->ipython>=7.23.1->ipykernel->Jupyter->-r requirements.txt (line 1)) (0.2.2)\n",
      "Requirement already satisfied: executing>=1.2.0 in /usr/local/lib/python3.8/dist-packages (from stack-data->ipython>=7.23.1->ipykernel->Jupyter->-r requirements.txt (line 1)) (1.2.0)\n",
      "Requirement already satisfied: idna>=2.8 in /usr/lib/python3/dist-packages (from anyio>=3.1.0->jupyter-server>=1.8->nbclassic>=0.4.7->notebook->Jupyter->-r requirements.txt (line 1)) (2.8)\n",
      "Requirement already satisfied: sniffio>=1.1 in /usr/local/lib/python3.8/dist-packages (from anyio>=3.1.0->jupyter-server>=1.8->nbclassic>=0.4.7->notebook->Jupyter->-r requirements.txt (line 1)) (1.3.0)\n",
      "Requirement already satisfied: pycparser in /usr/local/lib/python3.8/dist-packages (from cffi>=1.0.1->argon2-cffi-bindings->argon2-cffi->notebook->Jupyter->-r requirements.txt (line 1)) (2.21)\n",
      "Requirement already satisfied: rfc3986-validator>=0.1.1 in /usr/local/lib/python3.8/dist-packages (from jupyter-events>=0.4.0->jupyter-server>=1.8->nbclassic>=0.4.7->notebook->Jupyter->-r requirements.txt (line 1)) (0.1.1)\n",
      "Requirement already satisfied: pyyaml>=5.3 in /usr/local/lib/python3.8/dist-packages (from jupyter-events>=0.4.0->jupyter-server>=1.8->nbclassic>=0.4.7->notebook->Jupyter->-r requirements.txt (line 1)) (6.0)\n",
      "Requirement already satisfied: rfc3339-validator in /usr/local/lib/python3.8/dist-packages (from jupyter-events>=0.4.0->jupyter-server>=1.8->nbclassic>=0.4.7->notebook->Jupyter->-r requirements.txt (line 1)) (0.1.4)\n",
      "Requirement already satisfied: python-json-logger>=2.0.4 in /usr/local/lib/python3.8/dist-packages (from jupyter-events>=0.4.0->jupyter-server>=1.8->nbclassic>=0.4.7->notebook->Jupyter->-r requirements.txt (line 1)) (2.0.7)\n"
     ]
    },
    {
     "name": "stdout",
     "output_type": "stream",
     "text": [
      "Requirement already satisfied: uri-template in /usr/local/lib/python3.8/dist-packages (from jsonschema>=2.6->nbformat>=5.1->nbconvert->Jupyter->-r requirements.txt (line 1)) (1.2.0)\n",
      "Requirement already satisfied: isoduration in /usr/local/lib/python3.8/dist-packages (from jsonschema>=2.6->nbformat>=5.1->nbconvert->Jupyter->-r requirements.txt (line 1)) (20.11.0)\n",
      "Requirement already satisfied: fqdn in /usr/local/lib/python3.8/dist-packages (from jsonschema>=2.6->nbformat>=5.1->nbconvert->Jupyter->-r requirements.txt (line 1)) (1.5.1)\n",
      "Requirement already satisfied: webcolors>=1.11 in /usr/local/lib/python3.8/dist-packages (from jsonschema>=2.6->nbformat>=5.1->nbconvert->Jupyter->-r requirements.txt (line 1)) (1.12)\n",
      "Requirement already satisfied: jsonpointer>1.13 in /usr/local/lib/python3.8/dist-packages (from jsonschema>=2.6->nbformat>=5.1->nbconvert->Jupyter->-r requirements.txt (line 1)) (2.3)\n",
      "Requirement already satisfied: arrow>=0.15.0 in /usr/local/lib/python3.8/dist-packages (from isoduration->jsonschema>=2.6->nbformat>=5.1->nbconvert->Jupyter->-r requirements.txt (line 1)) (1.2.3)\n",
      "Installing collected packages: threadpoolctl, joblib, scikit-learn\n",
      "Successfully installed joblib-1.2.0 scikit-learn-1.2.2 threadpoolctl-3.1.0\n",
      "\u001b[33mWARNING: Running pip as the 'root' user can result in broken permissions and conflicting behaviour with the system package manager. It is recommended to use a virtual environment instead: https://pip.pypa.io/warnings/venv\u001b[0m\u001b[33m\n",
      "\u001b[0m\n",
      "\u001b[1m[\u001b[0m\u001b[34;49mnotice\u001b[0m\u001b[1;39;49m]\u001b[0m\u001b[39;49m A new release of pip is available: \u001b[0m\u001b[31;49m23.0.1\u001b[0m\u001b[39;49m -> \u001b[0m\u001b[32;49m23.1.2\u001b[0m\n",
      "\u001b[1m[\u001b[0m\u001b[34;49mnotice\u001b[0m\u001b[1;39;49m]\u001b[0m\u001b[39;49m To update, run: \u001b[0m\u001b[32;49mpython3 -m pip install --upgrade pip\u001b[0m\n"
     ]
    }
   ],
   "source": [
    "!pip3 install -r requirements.txt"
   ]
  },
  {
   "cell_type": "code",
   "execution_count": 2,
   "id": "a197d14f",
   "metadata": {
    "ExecuteTime": {
     "end_time": "2023-04-18T20:26:51.591349Z",
     "start_time": "2023-04-18T20:26:51.588645Z"
    }
   },
   "outputs": [
    {
     "name": "stderr",
     "output_type": "stream",
     "text": [
      "2023-04-20 08:58:00.558437: I tensorflow/core/platform/cpu_feature_guard.cc:182] This TensorFlow binary is optimized to use available CPU instructions in performance-critical operations.\n",
      "To enable the following instructions: AVX2 FMA, in other operations, rebuild TensorFlow with the appropriate compiler flags.\n"
     ]
    }
   ],
   "source": [
    "import os\n",
    "import numpy as np\n",
    "import tensorflow as tf\n",
    "\n",
    "from keras.utils import load_img, img_to_array\n",
    "from keras.applications.vgg16 import VGG16, preprocess_input\n",
    "from keras.layers import Flatten, Dense, Dropout\n",
    "from keras import Model, callbacks"
   ]
  },
  {
   "cell_type": "code",
   "execution_count": 3,
   "id": "a26a1706",
   "metadata": {
    "ExecuteTime": {
     "end_time": "2023-04-18T20:36:05.098722Z",
     "start_time": "2023-04-18T20:36:05.053782Z"
    }
   },
   "outputs": [],
   "source": [
    "def init_vgg16(checkpoint_path:str=None) -> Model:\n",
    "    \"\"\"\n",
    "    Creates a new instance of the VGG16 model with imageNet pretrained weights.\n",
    "    \n",
    "    args: \n",
    "        checkpoint_path: the path to the location of a tf checkpoint for resuming training\n",
    "        \n",
    "    returns:\n",
    "        model: a tf.Model\n",
    "    \"\"\"\n",
    "\n",
    "    # Download the model with weights pre-trained using ImageNet database\n",
    "    vgg16 = VGG16(weights='imagenet', \n",
    "                  include_top=False,\n",
    "                  input_shape=(224,224,3))\n",
    "    \n",
    "    \n",
    "    # Freeze layers for training\n",
    "    for layer in vgg16.layers:\n",
    "        layer.trainable = False\n",
    "\n",
    "    # Create a new 'top' of the model of fully-connected layers\n",
    "    top_model = vgg16.output\n",
    "    top_model = Flatten(name=\"flatten\")(top_model)\n",
    "    top_model = Dense(4096, activation='relu', name=\"top_dense_1\")(top_model)\n",
    "    top_model = Dropout(0.2)(top_model)\n",
    "    top_model = Dense(512, activation='relu', name=\"top_dense_2\")(top_model)\n",
    "    top_model = Dropout(0.2)(top_model)\n",
    "    top_model = Dense(256, activation='relu', name=\"top_dense_3\")(top_model)\n",
    "    top_model = Dropout(0.2)(top_model)\n",
    "    top_model = Dense(128, activation='relu', name=\"top_dense_4\")(top_model)\n",
    "    top_model = Dropout(0.2)(top_model)\n",
    "    output_layer = Dense(1, activation='softmax', name=\"output\" )(top_model)\n",
    "    \n",
    "    # Group the convolutional base and new fully-connected layers into a Model object.\n",
    "    model = Model(inputs=vgg16.input, outputs=output_layer)\n",
    "\n",
    "    # Compiles the model for training.\n",
    "    model.compile(optimizer='adam', \n",
    "                  loss='binary_crossentropy',\n",
    "                  metrics=['binary_accuracy'])\n",
    "    \n",
    "    if checkpoint_path is not None:\n",
    "        model.load_weights(checkpoint_path)\n",
    "    \n",
    "    return model\n"
   ]
  },
  {
   "cell_type": "code",
   "execution_count": 4,
   "id": "fcf71084",
   "metadata": {
    "ExecuteTime": {
     "end_time": "2023-04-18T20:36:05.739317Z",
     "start_time": "2023-04-18T20:36:05.737211Z"
    }
   },
   "outputs": [],
   "source": [
    "def load_and_preprocess_img(path: str):\n",
    "\n",
    "    img = load_img(path, target_size=(224, 224))\n",
    "    ary = img_to_array(img)\n",
    "    ary = np.expand_dims(ary, axis=0)\n",
    "    ary = preprocess_input(ary)\n",
    "    return ary[0]\n"
   ]
  },
  {
   "cell_type": "code",
   "execution_count": 5,
   "id": "fc3a9f9e",
   "metadata": {
    "ExecuteTime": {
     "end_time": "2023-04-18T20:36:06.213151Z",
     "start_time": "2023-04-18T20:36:06.210785Z"
    }
   },
   "outputs": [],
   "source": [
    "from os import listdir\n",
    "\n",
    "def load_data(path: str, label: int):\n",
    "\n",
    "    X = []\n",
    "    y = []\n",
    "\n",
    "    for filename in listdir(path):\n",
    "        x = load_and_preprocess_img(path + filename)\n",
    "        X.append(x)\n",
    "        y.append(label)\n",
    "\n",
    "    return X, y\n"
   ]
  },
  {
   "cell_type": "code",
   "execution_count": 6,
   "id": "5e79e8ce",
   "metadata": {
    "ExecuteTime": {
     "end_time": "2023-04-18T20:36:22.447477Z",
     "start_time": "2023-04-18T20:36:06.686471Z"
    }
   },
   "outputs": [
    {
     "name": "stdout",
     "output_type": "stream",
     "text": [
      "X: (6767, 224, 224, 3)\n",
      "y: (6767,)\n"
     ]
    }
   ],
   "source": [
    "FILEPATH_POS = \"./out_pos/\"\n",
    "FILEPATH_NEG = \"./out_neg/\"\n",
    "\n",
    "X, y = load_data(FILEPATH_POS, 1)\n",
    "X_neg, y_neg = load_data(FILEPATH_NEG, 0)\n",
    "\n",
    "X.extend(X_neg)\n",
    "y.extend(y_neg)\n",
    "\n",
    "X = np.array(X)\n",
    "y = np.array(y)\n",
    "\n",
    "print(f\"X: {X.shape}\")\n",
    "print(f\"y: {y.shape}\")\n"
   ]
  },
  {
   "cell_type": "code",
   "execution_count": 7,
   "id": "ffa19d08",
   "metadata": {
    "ExecuteTime": {
     "end_time": "2023-04-18T20:36:22.892975Z",
     "start_time": "2023-04-18T20:36:22.448025Z"
    }
   },
   "outputs": [],
   "source": [
    "from sklearn.model_selection import train_test_split\n",
    "\n",
    "X_train, X_test, y_train, y_test = train_test_split( X, y, test_size=0.33, random_state=42)"
   ]
  },
  {
   "cell_type": "code",
   "execution_count": 8,
   "id": "30556b92",
   "metadata": {},
   "outputs": [
    {
     "name": "stdout",
     "output_type": "stream",
     "text": [
      "Downloading data from https://storage.googleapis.com/tensorflow/keras-applications/vgg16/vgg16_weights_tf_dim_ordering_tf_kernels_notop.h5\n"
     ]
    },
    {
     "name": "stderr",
     "output_type": "stream",
     "text": [
      "2023-04-20 08:58:17.262946: I tensorflow/compiler/xla/stream_executor/cuda/cuda_gpu_executor.cc:996] successful NUMA node read from SysFS had negative value (-1), but there must be at least one NUMA node, so returning NUMA node zero. See more at https://github.com/torvalds/linux/blob/v6.0/Documentation/ABI/testing/sysfs-bus-pci#L344-L355\n",
      "2023-04-20 08:58:17.265734: I tensorflow/compiler/xla/stream_executor/cuda/cuda_gpu_executor.cc:996] successful NUMA node read from SysFS had negative value (-1), but there must be at least one NUMA node, so returning NUMA node zero. See more at https://github.com/torvalds/linux/blob/v6.0/Documentation/ABI/testing/sysfs-bus-pci#L344-L355\n",
      "2023-04-20 08:58:17.265856: I tensorflow/compiler/xla/stream_executor/cuda/cuda_gpu_executor.cc:996] successful NUMA node read from SysFS had negative value (-1), but there must be at least one NUMA node, so returning NUMA node zero. See more at https://github.com/torvalds/linux/blob/v6.0/Documentation/ABI/testing/sysfs-bus-pci#L344-L355\n",
      "2023-04-20 08:58:17.266653: I tensorflow/compiler/xla/stream_executor/cuda/cuda_gpu_executor.cc:996] successful NUMA node read from SysFS had negative value (-1), but there must be at least one NUMA node, so returning NUMA node zero. See more at https://github.com/torvalds/linux/blob/v6.0/Documentation/ABI/testing/sysfs-bus-pci#L344-L355\n",
      "2023-04-20 08:58:17.266769: I tensorflow/compiler/xla/stream_executor/cuda/cuda_gpu_executor.cc:996] successful NUMA node read from SysFS had negative value (-1), but there must be at least one NUMA node, so returning NUMA node zero. See more at https://github.com/torvalds/linux/blob/v6.0/Documentation/ABI/testing/sysfs-bus-pci#L344-L355\n",
      "2023-04-20 08:58:17.266874: I tensorflow/compiler/xla/stream_executor/cuda/cuda_gpu_executor.cc:996] successful NUMA node read from SysFS had negative value (-1), but there must be at least one NUMA node, so returning NUMA node zero. See more at https://github.com/torvalds/linux/blob/v6.0/Documentation/ABI/testing/sysfs-bus-pci#L344-L355\n",
      "2023-04-20 08:58:17.529168: I tensorflow/compiler/xla/stream_executor/cuda/cuda_gpu_executor.cc:996] successful NUMA node read from SysFS had negative value (-1), but there must be at least one NUMA node, so returning NUMA node zero. See more at https://github.com/torvalds/linux/blob/v6.0/Documentation/ABI/testing/sysfs-bus-pci#L344-L355\n",
      "2023-04-20 08:58:17.529323: I tensorflow/compiler/xla/stream_executor/cuda/cuda_gpu_executor.cc:996] successful NUMA node read from SysFS had negative value (-1), but there must be at least one NUMA node, so returning NUMA node zero. See more at https://github.com/torvalds/linux/blob/v6.0/Documentation/ABI/testing/sysfs-bus-pci#L344-L355\n",
      "2023-04-20 08:58:17.529431: I tensorflow/compiler/xla/stream_executor/cuda/cuda_gpu_executor.cc:996] successful NUMA node read from SysFS had negative value (-1), but there must be at least one NUMA node, so returning NUMA node zero. See more at https://github.com/torvalds/linux/blob/v6.0/Documentation/ABI/testing/sysfs-bus-pci#L344-L355\n",
      "2023-04-20 08:58:17.529529: I tensorflow/core/common_runtime/gpu/gpu_device.cc:1635] Created device /job:localhost/replica:0/task:0/device:GPU:0 with 9561 MB memory:  -> device: 0, name: NVIDIA GeForce RTX 3060, pci bus id: 0000:2b:00.0, compute capability: 8.6\n"
     ]
    },
    {
     "name": "stdout",
     "output_type": "stream",
     "text": [
      "58889256/58889256 [==============================] - 5s 0us/step\n",
      "Model: \"model\"\n",
      "_________________________________________________________________\n",
      " Layer (type)                Output Shape              Param #   \n",
      "=================================================================\n",
      " input_1 (InputLayer)        [(None, 224, 224, 3)]     0         \n",
      "                                                                 \n",
      " block1_conv1 (Conv2D)       (None, 224, 224, 64)      1792      \n",
      "                                                                 \n",
      " block1_conv2 (Conv2D)       (None, 224, 224, 64)      36928     \n",
      "                                                                 \n",
      " block1_pool (MaxPooling2D)  (None, 112, 112, 64)      0         \n",
      "                                                                 \n",
      " block2_conv1 (Conv2D)       (None, 112, 112, 128)     73856     \n",
      "                                                                 \n",
      " block2_conv2 (Conv2D)       (None, 112, 112, 128)     147584    \n",
      "                                                                 \n",
      " block2_pool (MaxPooling2D)  (None, 56, 56, 128)       0         \n",
      "                                                                 \n",
      " block3_conv1 (Conv2D)       (None, 56, 56, 256)       295168    \n",
      "                                                                 \n",
      " block3_conv2 (Conv2D)       (None, 56, 56, 256)       590080    \n",
      "                                                                 \n",
      " block3_conv3 (Conv2D)       (None, 56, 56, 256)       590080    \n",
      "                                                                 \n",
      " block3_pool (MaxPooling2D)  (None, 28, 28, 256)       0         \n",
      "                                                                 \n",
      " block4_conv1 (Conv2D)       (None, 28, 28, 512)       1180160   \n",
      "                                                                 \n",
      " block4_conv2 (Conv2D)       (None, 28, 28, 512)       2359808   \n",
      "                                                                 \n",
      " block4_conv3 (Conv2D)       (None, 28, 28, 512)       2359808   \n",
      "                                                                 \n",
      " block4_pool (MaxPooling2D)  (None, 14, 14, 512)       0         \n",
      "                                                                 \n",
      " block5_conv1 (Conv2D)       (None, 14, 14, 512)       2359808   \n",
      "                                                                 \n",
      " block5_conv2 (Conv2D)       (None, 14, 14, 512)       2359808   \n",
      "                                                                 \n",
      " block5_conv3 (Conv2D)       (None, 14, 14, 512)       2359808   \n",
      "                                                                 \n",
      " block5_pool (MaxPooling2D)  (None, 7, 7, 512)         0         \n",
      "                                                                 \n",
      " flatten (Flatten)           (None, 25088)             0         \n",
      "                                                                 \n",
      " top_dense_1 (Dense)         (None, 4096)              102764544 \n",
      "                                                                 \n",
      " dropout (Dropout)           (None, 4096)              0         \n",
      "                                                                 \n",
      " top_dense_2 (Dense)         (None, 512)               2097664   \n",
      "                                                                 \n",
      " dropout_1 (Dropout)         (None, 512)               0         \n",
      "                                                                 \n",
      " top_dense_3 (Dense)         (None, 256)               131328    \n",
      "                                                                 \n",
      " dropout_2 (Dropout)         (None, 256)               0         \n",
      "                                                                 \n",
      " top_dense_4 (Dense)         (None, 128)               32896     \n",
      "                                                                 \n",
      " dropout_3 (Dropout)         (None, 128)               0         \n",
      "                                                                 \n",
      " output (Dense)              (None, 1)                 129       \n",
      "                                                                 \n",
      "=================================================================\n",
      "Total params: 119,741,249\n",
      "Trainable params: 105,026,561\n",
      "Non-trainable params: 14,714,688\n",
      "_________________________________________________________________\n"
     ]
    }
   ],
   "source": [
    "# Checkpoint during training\n",
    "checkpoint_path = \"classifier_chkpts/cp.ckpt\"\n",
    "checkpoint_dir = os.path.dirname(checkpoint_path)\n",
    "\n",
    "model = init_vgg16(checkpoint_path)\n",
    "model.summary()"
   ]
  },
  {
   "cell_type": "code",
   "execution_count": null,
   "id": "9fc18235",
   "metadata": {},
   "outputs": [
    {
     "name": "stdout",
     "output_type": "stream",
     "text": [
      "Epoch 1/200\n"
     ]
    },
    {
     "name": "stderr",
     "output_type": "stream",
     "text": [
      "2023-04-20 08:58:27.401110: I tensorflow/compiler/xla/stream_executor/cuda/cuda_dnn.cc:424] Loaded cuDNN version 8600\n",
      "2023-04-20 08:58:28.841039: I tensorflow/compiler/xla/stream_executor/cuda/cuda_blas.cc:637] TensorFloat-32 will be used for the matrix multiplication. This will only be logged once.\n",
      "2023-04-20 08:58:29.224788: I tensorflow/compiler/xla/service/service.cc:169] XLA service 0x7f8e7246bfb0 initialized for platform CUDA (this does not guarantee that XLA will be used). Devices:\n",
      "2023-04-20 08:58:29.224809: I tensorflow/compiler/xla/service/service.cc:177]   StreamExecutor device (0): NVIDIA GeForce RTX 3060, Compute Capability 8.6\n",
      "2023-04-20 08:58:29.227387: I tensorflow/compiler/mlir/tensorflow/utils/dump_mlir_util.cc:269] disabling MLIR crash reproducer, set env var `MLIR_CRASH_REPRODUCER_DIRECTORY` to enable.\n",
      "2023-04-20 08:58:29.303012: I ./tensorflow/compiler/jit/device_compiler.h:180] Compiled cluster using XLA!  This line is logged at most once for the lifetime of the process.\n"
     ]
    },
    {
     "name": "stdout",
     "output_type": "stream",
     "text": [
      "142/142 [==============================] - 27s 163ms/step - loss: 0.2854 - binary_accuracy: 0.9173 - val_loss: 0.2996 - val_binary_accuracy: 0.9114\n",
      "Epoch 2/200\n",
      "142/142 [==============================] - 21s 145ms/step - loss: 0.2854 - binary_accuracy: 0.9173 - val_loss: 0.2996 - val_binary_accuracy: 0.9114\n",
      "Epoch 3/200\n",
      " 35/142 [======>.......................] - ETA: 10s - loss: 0.2797 - binary_accuracy: 0.9196\n",
      "Epoch 3: saving model to classifier_chkpts/cp.ckpt\n",
      "142/142 [==============================] - 22s 158ms/step - loss: 0.2854 - binary_accuracy: 0.9173 - val_loss: 0.2996 - val_binary_accuracy: 0.9114\n",
      "Epoch 4/200\n",
      "142/142 [==============================] - 21s 145ms/step - loss: 0.2854 - binary_accuracy: 0.9173 - val_loss: 0.2996 - val_binary_accuracy: 0.9114\n",
      "Epoch 5/200\n",
      " 71/142 [==============>...............] - ETA: 7s - loss: 0.2876 - binary_accuracy: 0.9164\n",
      "Epoch 5: saving model to classifier_chkpts/cp.ckpt\n",
      "142/142 [==============================] - 22s 156ms/step - loss: 0.2854 - binary_accuracy: 0.9173 - val_loss: 0.2996 - val_binary_accuracy: 0.9114\n",
      "Epoch 6/200\n",
      "142/142 [==============================] - 21s 146ms/step - loss: 0.2854 - binary_accuracy: 0.9173 - val_loss: 0.2996 - val_binary_accuracy: 0.9114\n",
      "Epoch 7/200\n",
      "107/142 [=====================>........] - ETA: 3s - loss: 0.2754 - binary_accuracy: 0.9214\n",
      "Epoch 7: saving model to classifier_chkpts/cp.ckpt\n",
      "142/142 [==============================] - 22s 153ms/step - loss: 0.2854 - binary_accuracy: 0.9173 - val_loss: 0.2996 - val_binary_accuracy: 0.9114\n",
      "Epoch 8/200\n",
      "142/142 [==============================] - 21s 146ms/step - loss: 0.2854 - binary_accuracy: 0.9173 - val_loss: 0.2996 - val_binary_accuracy: 0.9114\n",
      "Epoch 9/200\n",
      "142/142 [==============================] - 21s 147ms/step - loss: 0.2854 - binary_accuracy: 0.9173 - val_loss: 0.2996 - val_binary_accuracy: 0.9114\n",
      "Epoch 10/200\n",
      "  1/142 [..............................] - ETA: 13s - loss: 0.3871 - binary_accuracy: 0.8750\n",
      "Epoch 10: saving model to classifier_chkpts/cp.ckpt\n",
      "142/142 [==============================] - 22s 154ms/step - loss: 0.2854 - binary_accuracy: 0.9173 - val_loss: 0.2996 - val_binary_accuracy: 0.9114\n",
      "Epoch 11/200\n",
      "142/142 [==============================] - 21s 147ms/step - loss: 0.2854 - binary_accuracy: 0.9173 - val_loss: 0.2996 - val_binary_accuracy: 0.9114\n",
      "Epoch 12/200\n",
      " 37/142 [======>.......................] - ETA: 10s - loss: 0.2611 - binary_accuracy: 0.9274\n",
      "Epoch 12: saving model to classifier_chkpts/cp.ckpt\n",
      "142/142 [==============================] - 22s 154ms/step - loss: 0.2854 - binary_accuracy: 0.9173 - val_loss: 0.2996 - val_binary_accuracy: 0.9114\n",
      "Epoch 13/200\n",
      "142/142 [==============================] - 21s 146ms/step - loss: 0.2854 - binary_accuracy: 0.9173 - val_loss: 0.2996 - val_binary_accuracy: 0.9114\n",
      "Epoch 14/200\n",
      " 73/142 [==============>...............] - ETA: 7s - loss: 0.2893 - binary_accuracy: 0.9157\n",
      "Epoch 14: saving model to classifier_chkpts/cp.ckpt\n",
      "142/142 [==============================] - 22s 155ms/step - loss: 0.2854 - binary_accuracy: 0.9173 - val_loss: 0.2996 - val_binary_accuracy: 0.9114\n",
      "Epoch 15/200\n",
      "142/142 [==============================] - 21s 148ms/step - loss: 0.2849 - binary_accuracy: 0.9173 - val_loss: 0.2996 - val_binary_accuracy: 0.9114\n",
      "Epoch 16/200\n",
      "109/142 [======================>.......] - ETA: 3s - loss: 2.1758 - binary_accuracy: 0.9171\n",
      "Epoch 16: saving model to classifier_chkpts/cp.ckpt\n",
      "142/142 [==============================] - 22s 156ms/step - loss: 1.7398 - binary_accuracy: 0.9173 - val_loss: 0.2996 - val_binary_accuracy: 0.9114\n",
      "Epoch 17/200\n",
      "142/142 [==============================] - 21s 146ms/step - loss: 0.2854 - binary_accuracy: 0.9173 - val_loss: 0.2996 - val_binary_accuracy: 0.9114\n",
      "Epoch 18/200\n",
      "142/142 [==============================] - 21s 145ms/step - loss: 0.2854 - binary_accuracy: 0.9173 - val_loss: 0.2996 - val_binary_accuracy: 0.9114\n",
      "Epoch 19/200\n",
      "  3/142 [..............................] - ETA: 13s - loss: 0.2868 - binary_accuracy: 0.9167\n",
      "Epoch 19: saving model to classifier_chkpts/cp.ckpt\n",
      "142/142 [==============================] - 22s 153ms/step - loss: 0.2854 - binary_accuracy: 0.9173 - val_loss: 0.2996 - val_binary_accuracy: 0.9114\n",
      "Epoch 20/200\n",
      "142/142 [==============================] - 21s 149ms/step - loss: 0.3000 - binary_accuracy: 0.9173 - val_loss: 0.2996 - val_binary_accuracy: 0.9114\n",
      "Epoch 21/200\n",
      " 39/142 [=======>......................] - ETA: 10s - loss: 0.2907 - binary_accuracy: 0.9151\n",
      "Epoch 21: saving model to classifier_chkpts/cp.ckpt\n",
      "142/142 [==============================] - 22s 154ms/step - loss: 0.2866 - binary_accuracy: 0.9173 - val_loss: 0.2996 - val_binary_accuracy: 0.9114\n",
      "Epoch 22/200\n",
      "142/142 [==============================] - 21s 145ms/step - loss: 0.2854 - binary_accuracy: 0.9173 - val_loss: 0.2996 - val_binary_accuracy: 0.9114\n",
      "Epoch 23/200\n",
      " 75/142 [==============>...............] - ETA: 6s - loss: 0.2929 - binary_accuracy: 0.9142\n",
      "Epoch 23: saving model to classifier_chkpts/cp.ckpt\n",
      "142/142 [==============================] - 22s 154ms/step - loss: 0.2854 - binary_accuracy: 0.9173 - val_loss: 0.2996 - val_binary_accuracy: 0.9114\n",
      "Epoch 24/200\n",
      "142/142 [==============================] - 21s 148ms/step - loss: 0.2854 - binary_accuracy: 0.9173 - val_loss: 0.2996 - val_binary_accuracy: 0.9114\n",
      "Epoch 25/200\n",
      " 91/142 [==================>...........] - ETA: 5s - loss: 0.2805 - binary_accuracy: 0.9193"
     ]
    }
   ],
   "source": [
    "batch_size = 32\n",
    "\n",
    "# Create a callback that saves the model's weights\n",
    "cp_callback = callbacks.ModelCheckpoint(filepath=checkpoint_path,\n",
    "                                        save_weights_only=True,\n",
    "                                        save_freq=10*batch_size,\n",
    "                                        verbose=1)\n",
    "\n",
    "model.fit(X_train,\n",
    "          y_train,\n",
    "          batch_size=batch_size,\n",
    "          epochs=200,\n",
    "          validation_data=(X_test, y_test),\n",
    "          callbacks=[cp_callback])"
   ]
  },
  {
   "cell_type": "code",
   "execution_count": null,
   "id": "e49e87bd",
   "metadata": {},
   "outputs": [],
   "source": []
  }
 ],
 "metadata": {
  "kernelspec": {
   "display_name": "Python 3 (ipykernel)",
   "language": "python",
   "name": "python3"
  },
  "language_info": {
   "codemirror_mode": {
    "name": "ipython",
    "version": 3
   },
   "file_extension": ".py",
   "mimetype": "text/x-python",
   "name": "python",
   "nbconvert_exporter": "python",
   "pygments_lexer": "ipython3",
   "version": "3.8.10"
  }
 },
 "nbformat": 4,
 "nbformat_minor": 5
}
