{
 "cells": [
  {
   "cell_type": "code",
   "execution_count": 1,
   "metadata": {
    "ExecuteTime": {
     "end_time": "2023-05-22T11:51:59.694806649Z",
     "start_time": "2023-05-22T11:51:58.475036690Z"
    }
   },
   "outputs": [
    {
     "name": "stderr",
     "output_type": "stream",
     "text": [
      "2023-05-22 11:51:58.630799: I tensorflow/core/platform/cpu_feature_guard.cc:182] This TensorFlow binary is optimized to use available CPU instructions in performance-critical operations.\n",
      "To enable the following instructions: AVX2 FMA, in other operations, rebuild TensorFlow with the appropriate compiler flags.\n"
     ]
    }
   ],
   "source": [
    "import os\n",
    "import tensorflow as tf\n",
    "from keras import optimizers\n",
    "from keras.layers import InputLayer\n",
    "from keras.models import Model\n",
    "\n",
    "os.environ['TF_CPP_MIN_LOG_LEVEL'] = '2'\n",
    "os.chdir(\"/tf/notebooks/src\")"
   ]
  },
  {
   "cell_type": "code",
   "execution_count": 2,
   "metadata": {
    "ExecuteTime": {
     "end_time": "2023-05-22T11:51:59.933544225Z",
     "start_time": "2023-05-22T11:51:59.695486076Z"
    }
   },
   "outputs": [],
   "source": [
    "from models import SiameseModel\n",
    "from utils import load_data, visualise"
   ]
  },
  {
   "cell_type": "code",
   "execution_count": 3,
   "outputs": [
    {
     "name": "stdout",
     "output_type": "stream",
     "text": [
      "Model: \"sequential\"\n",
      "_________________________________________________________________\n",
      " Layer (type)                Output Shape              Param #   \n",
      "=================================================================\n",
      " net_vlad (NetVLAD)          (None, 192)               448       \n",
      "                                                                 \n",
      "=================================================================\n",
      "Total params: 448\n",
      "Trainable params: 448\n",
      "Non-trainable params: 0\n",
      "_________________________________________________________________\n"
     ]
    },
    {
     "name": "stderr",
     "output_type": "stream",
     "text": [
      "2023-05-22 11:51:59.937851: E tensorflow/compiler/xla/stream_executor/cuda/cuda_driver.cc:266] failed call to cuInit: CUDA_ERROR_UNKNOWN: unknown error\n",
      "2023-05-22 11:51:59.937878: I tensorflow/compiler/xla/stream_executor/cuda/cuda_diagnostics.cc:168] retrieving CUDA diagnostic information for host: db27e67b67f1\n",
      "2023-05-22 11:51:59.937883: I tensorflow/compiler/xla/stream_executor/cuda/cuda_diagnostics.cc:175] hostname: db27e67b67f1\n",
      "2023-05-22 11:51:59.937943: I tensorflow/compiler/xla/stream_executor/cuda/cuda_diagnostics.cc:199] libcuda reported version is: NOT_FOUND: was unable to find libcuda.so DSO loaded into this program\n",
      "2023-05-22 11:51:59.937962: I tensorflow/compiler/xla/stream_executor/cuda/cuda_diagnostics.cc:203] kernel reported version is: 525.105.17\n"
     ]
    }
   ],
   "source": [
    "from keras.models import Sequential\n",
    "from keras.layers import InputLayer, Input\n",
    "from NetVLAD import NetVLAD\n",
    "\n",
    "model = Sequential()\n",
    "model.add(InputLayer(input_shape=(100, 100, 3)))\n",
    "\n",
    "netvlad_layer = NetVLAD(input_shape=(100, 100, 3))\n",
    "\n",
    "model.add(netvlad_layer)\n",
    "\n",
    "model.summary()"
   ],
   "metadata": {
    "collapsed": false,
    "ExecuteTime": {
     "end_time": "2023-05-22T11:52:00.039645404Z",
     "start_time": "2023-05-22T11:51:59.935881636Z"
    }
   }
  },
  {
   "cell_type": "code",
   "execution_count": 8,
   "outputs": [
    {
     "ename": "TypeError",
     "evalue": "Error converting shape to a TensorShape: Dimension value must be integer or None or have an __index__ method, got value '(224, 224, 3)' with type '<class 'tuple'>'.",
     "output_type": "error",
     "traceback": [
      "\u001B[0;31m---------------------------------------------------------------------------\u001B[0m",
      "\u001B[0;31mTypeError\u001B[0m                                 Traceback (most recent call last)",
      "File \u001B[0;32m/usr/local/lib/python3.8/dist-packages/tensorflow/python/eager/execute.py:200\u001B[0m, in \u001B[0;36mmake_shape\u001B[0;34m(v, arg_name)\u001B[0m\n\u001B[1;32m    199\u001B[0m \u001B[38;5;28;01mtry\u001B[39;00m:\n\u001B[0;32m--> 200\u001B[0m   shape \u001B[38;5;241m=\u001B[39m \u001B[43mtensor_shape\u001B[49m\u001B[38;5;241;43m.\u001B[39;49m\u001B[43mas_shape\u001B[49m\u001B[43m(\u001B[49m\u001B[43mv\u001B[49m\u001B[43m)\u001B[49m\n\u001B[1;32m    201\u001B[0m \u001B[38;5;28;01mexcept\u001B[39;00m \u001B[38;5;167;01mTypeError\u001B[39;00m \u001B[38;5;28;01mas\u001B[39;00m e:\n",
      "File \u001B[0;32m/usr/local/lib/python3.8/dist-packages/tensorflow/python/framework/tensor_shape.py:1500\u001B[0m, in \u001B[0;36mas_shape\u001B[0;34m(shape)\u001B[0m\n\u001B[1;32m   1499\u001B[0m \u001B[38;5;28;01melse\u001B[39;00m:\n\u001B[0;32m-> 1500\u001B[0m   \u001B[38;5;28;01mreturn\u001B[39;00m \u001B[43mTensorShape\u001B[49m\u001B[43m(\u001B[49m\u001B[43mshape\u001B[49m\u001B[43m)\u001B[49m\n",
      "File \u001B[0;32m/usr/local/lib/python3.8/dist-packages/tensorflow/python/framework/tensor_shape.py:825\u001B[0m, in \u001B[0;36mTensorShape.__init__\u001B[0;34m(self, dims)\u001B[0m\n\u001B[1;32m    824\u001B[0m \u001B[38;5;28;01mif\u001B[39;00m \u001B[38;5;28misinstance\u001B[39m(dims, (\u001B[38;5;28mtuple\u001B[39m, \u001B[38;5;28mlist\u001B[39m)):  \u001B[38;5;66;03m# Most common case.\u001B[39;00m\n\u001B[0;32m--> 825\u001B[0m   \u001B[38;5;28mself\u001B[39m\u001B[38;5;241m.\u001B[39m_dims \u001B[38;5;241m=\u001B[39m \u001B[38;5;28;43mtuple\u001B[39;49m\u001B[43m(\u001B[49m\u001B[43mas_dimension\u001B[49m\u001B[43m(\u001B[49m\u001B[43md\u001B[49m\u001B[43m)\u001B[49m\u001B[38;5;241;43m.\u001B[39;49m\u001B[43mvalue\u001B[49m\u001B[43m \u001B[49m\u001B[38;5;28;43;01mfor\u001B[39;49;00m\u001B[43m \u001B[49m\u001B[43md\u001B[49m\u001B[43m \u001B[49m\u001B[38;5;129;43;01min\u001B[39;49;00m\u001B[43m \u001B[49m\u001B[43mdims\u001B[49m\u001B[43m)\u001B[49m\n\u001B[1;32m    826\u001B[0m \u001B[38;5;28;01melif\u001B[39;00m dims \u001B[38;5;129;01mis\u001B[39;00m \u001B[38;5;28;01mNone\u001B[39;00m:\n",
      "File \u001B[0;32m/usr/local/lib/python3.8/dist-packages/tensorflow/python/framework/tensor_shape.py:825\u001B[0m, in \u001B[0;36m<genexpr>\u001B[0;34m(.0)\u001B[0m\n\u001B[1;32m    824\u001B[0m \u001B[38;5;28;01mif\u001B[39;00m \u001B[38;5;28misinstance\u001B[39m(dims, (\u001B[38;5;28mtuple\u001B[39m, \u001B[38;5;28mlist\u001B[39m)):  \u001B[38;5;66;03m# Most common case.\u001B[39;00m\n\u001B[0;32m--> 825\u001B[0m   \u001B[38;5;28mself\u001B[39m\u001B[38;5;241m.\u001B[39m_dims \u001B[38;5;241m=\u001B[39m \u001B[38;5;28mtuple\u001B[39m(\u001B[43mas_dimension\u001B[49m\u001B[43m(\u001B[49m\u001B[43md\u001B[49m\u001B[43m)\u001B[49m\u001B[38;5;241m.\u001B[39mvalue \u001B[38;5;28;01mfor\u001B[39;00m d \u001B[38;5;129;01min\u001B[39;00m dims)\n\u001B[1;32m    826\u001B[0m \u001B[38;5;28;01melif\u001B[39;00m dims \u001B[38;5;129;01mis\u001B[39;00m \u001B[38;5;28;01mNone\u001B[39;00m:\n",
      "File \u001B[0;32m/usr/local/lib/python3.8/dist-packages/tensorflow/python/framework/tensor_shape.py:739\u001B[0m, in \u001B[0;36mas_dimension\u001B[0;34m(value)\u001B[0m\n\u001B[1;32m    738\u001B[0m \u001B[38;5;28;01melse\u001B[39;00m:\n\u001B[0;32m--> 739\u001B[0m   \u001B[38;5;28;01mreturn\u001B[39;00m \u001B[43mDimension\u001B[49m\u001B[43m(\u001B[49m\u001B[43mvalue\u001B[49m\u001B[43m)\u001B[49m\n",
      "File \u001B[0;32m/usr/local/lib/python3.8/dist-packages/tensorflow/python/framework/tensor_shape.py:215\u001B[0m, in \u001B[0;36mDimension.__init__\u001B[0;34m(self, value)\u001B[0m\n\u001B[1;32m    214\u001B[0m \u001B[38;5;28;01mexcept\u001B[39;00m \u001B[38;5;167;01mAttributeError\u001B[39;00m:\n\u001B[0;32m--> 215\u001B[0m   \u001B[38;5;28;01mraise\u001B[39;00m \u001B[38;5;167;01mTypeError\u001B[39;00m(\n\u001B[1;32m    216\u001B[0m       \u001B[38;5;124m\"\u001B[39m\u001B[38;5;124mDimension value must be integer or None or have \u001B[39m\u001B[38;5;124m\"\u001B[39m\n\u001B[1;32m    217\u001B[0m       \u001B[38;5;124m\"\u001B[39m\u001B[38;5;124man __index__ method, got value \u001B[39m\u001B[38;5;124m'\u001B[39m\u001B[38;5;132;01m{0!r}\u001B[39;00m\u001B[38;5;124m'\u001B[39m\u001B[38;5;124m with type \u001B[39m\u001B[38;5;124m'\u001B[39m\u001B[38;5;132;01m{1!r}\u001B[39;00m\u001B[38;5;124m'\u001B[39m\u001B[38;5;124m\"\u001B[39m\u001B[38;5;241m.\u001B[39mformat(\n\u001B[1;32m    218\u001B[0m           value, \u001B[38;5;28mtype\u001B[39m(value))) \u001B[38;5;28;01mfrom\u001B[39;00m \u001B[38;5;28mNone\u001B[39m\n\u001B[1;32m    219\u001B[0m \u001B[38;5;28;01mif\u001B[39;00m \u001B[38;5;28mself\u001B[39m\u001B[38;5;241m.\u001B[39m_value \u001B[38;5;241m<\u001B[39m \u001B[38;5;241m0\u001B[39m:\n",
      "\u001B[0;31mTypeError\u001B[0m: Dimension value must be integer or None or have an __index__ method, got value '(224, 224, 3)' with type '<class 'tuple'>'",
      "\nDuring handling of the above exception, another exception occurred:\n",
      "\u001B[0;31mTypeError\u001B[0m                                 Traceback (most recent call last)",
      "Cell \u001B[0;32mIn[8], line 2\u001B[0m\n\u001B[1;32m      1\u001B[0m model \u001B[38;5;241m=\u001B[39m SiameseModel()\n\u001B[0;32m----> 2\u001B[0m \u001B[43mmodel\u001B[49m\u001B[38;5;241;43m.\u001B[39;49m\u001B[43mbuild\u001B[49m\u001B[43m(\u001B[49m\u001B[43minput_shape\u001B[49m\u001B[38;5;241;43m=\u001B[39;49m\u001B[43m(\u001B[49m\u001B[43m(\u001B[49m\u001B[38;5;241;43m224\u001B[39;49m\u001B[43m,\u001B[49m\u001B[43m \u001B[49m\u001B[38;5;241;43m224\u001B[39;49m\u001B[43m,\u001B[49m\u001B[43m \u001B[49m\u001B[38;5;241;43m3\u001B[39;49m\u001B[43m)\u001B[49m\u001B[43m,\u001B[49m\u001B[43m \u001B[49m\u001B[43m(\u001B[49m\u001B[38;5;241;43m224\u001B[39;49m\u001B[43m,\u001B[49m\u001B[43m \u001B[49m\u001B[38;5;241;43m224\u001B[39;49m\u001B[43m,\u001B[49m\u001B[43m \u001B[49m\u001B[38;5;241;43m3\u001B[39;49m\u001B[43m)\u001B[49m\u001B[43m,\u001B[49m\u001B[43m \u001B[49m\u001B[43m(\u001B[49m\u001B[38;5;241;43m224\u001B[39;49m\u001B[43m,\u001B[49m\u001B[43m \u001B[49m\u001B[38;5;241;43m224\u001B[39;49m\u001B[43m,\u001B[49m\u001B[43m \u001B[49m\u001B[38;5;241;43m3\u001B[39;49m\u001B[43m)\u001B[49m\u001B[43m)\u001B[49m\u001B[43m)\u001B[49m\n\u001B[1;32m      3\u001B[0m model\u001B[38;5;241m.\u001B[39msummary()\n",
      "File \u001B[0;32m/usr/local/lib/python3.8/dist-packages/keras/engine/training.py:470\u001B[0m, in \u001B[0;36mModel.build\u001B[0;34m(self, input_shape)\u001B[0m\n\u001B[1;32m    463\u001B[0m     x \u001B[38;5;241m=\u001B[39m {\n\u001B[1;32m    464\u001B[0m         k: base_layer_utils\u001B[38;5;241m.\u001B[39mgenerate_placeholders_from_shape(\n\u001B[1;32m    465\u001B[0m             shape\n\u001B[1;32m    466\u001B[0m         )\n\u001B[1;32m    467\u001B[0m         \u001B[38;5;28;01mfor\u001B[39;00m k, shape \u001B[38;5;129;01min\u001B[39;00m input_shape\u001B[38;5;241m.\u001B[39mitems()\n\u001B[1;32m    468\u001B[0m     }\n\u001B[1;32m    469\u001B[0m \u001B[38;5;28;01melse\u001B[39;00m:\n\u001B[0;32m--> 470\u001B[0m     x \u001B[38;5;241m=\u001B[39m \u001B[43mbase_layer_utils\u001B[49m\u001B[38;5;241;43m.\u001B[39;49m\u001B[43mgenerate_placeholders_from_shape\u001B[49m\u001B[43m(\u001B[49m\n\u001B[1;32m    471\u001B[0m \u001B[43m        \u001B[49m\u001B[43minput_shape\u001B[49m\n\u001B[1;32m    472\u001B[0m \u001B[43m    \u001B[49m\u001B[43m)\u001B[49m\n\u001B[1;32m    474\u001B[0m kwargs \u001B[38;5;241m=\u001B[39m {}\n\u001B[1;32m    475\u001B[0m call_signature \u001B[38;5;241m=\u001B[39m \u001B[38;5;28mself\u001B[39m\u001B[38;5;241m.\u001B[39m_call_spec\u001B[38;5;241m.\u001B[39mfull_argspec\n",
      "File \u001B[0;32m/usr/local/lib/python3.8/dist-packages/keras/engine/base_layer_utils.py:185\u001B[0m, in \u001B[0;36mgenerate_placeholders_from_shape\u001B[0;34m(shape)\u001B[0m\n\u001B[1;32m    184\u001B[0m \u001B[38;5;28;01mdef\u001B[39;00m \u001B[38;5;21mgenerate_placeholders_from_shape\u001B[39m(shape):\n\u001B[0;32m--> 185\u001B[0m     \u001B[38;5;28;01mreturn\u001B[39;00m \u001B[43mtf1\u001B[49m\u001B[38;5;241;43m.\u001B[39;49m\u001B[43mplaceholder\u001B[49m\u001B[43m(\u001B[49m\u001B[43mshape\u001B[49m\u001B[38;5;241;43m=\u001B[39;49m\u001B[43mshape\u001B[49m\u001B[43m,\u001B[49m\u001B[43m \u001B[49m\u001B[43mdtype\u001B[49m\u001B[38;5;241;43m=\u001B[39;49m\u001B[43mbackend\u001B[49m\u001B[38;5;241;43m.\u001B[39;49m\u001B[43mfloatx\u001B[49m\u001B[43m(\u001B[49m\u001B[43m)\u001B[49m\u001B[43m)\u001B[49m\n",
      "File \u001B[0;32m/usr/local/lib/python3.8/dist-packages/tensorflow/python/ops/array_ops.py:3361\u001B[0m, in \u001B[0;36mplaceholder\u001B[0;34m(dtype, shape, name)\u001B[0m\n\u001B[1;32m   3357\u001B[0m \u001B[38;5;28;01mif\u001B[39;00m context\u001B[38;5;241m.\u001B[39mexecuting_eagerly():\n\u001B[1;32m   3358\u001B[0m   \u001B[38;5;28;01mraise\u001B[39;00m \u001B[38;5;167;01mRuntimeError\u001B[39;00m(\u001B[38;5;124m\"\u001B[39m\u001B[38;5;124mtf.placeholder() is not compatible with \u001B[39m\u001B[38;5;124m\"\u001B[39m\n\u001B[1;32m   3359\u001B[0m                      \u001B[38;5;124m\"\u001B[39m\u001B[38;5;124meager execution.\u001B[39m\u001B[38;5;124m\"\u001B[39m)\n\u001B[0;32m-> 3361\u001B[0m \u001B[38;5;28;01mreturn\u001B[39;00m \u001B[43mgen_array_ops\u001B[49m\u001B[38;5;241;43m.\u001B[39;49m\u001B[43mplaceholder\u001B[49m\u001B[43m(\u001B[49m\u001B[43mdtype\u001B[49m\u001B[38;5;241;43m=\u001B[39;49m\u001B[43mdtype\u001B[49m\u001B[43m,\u001B[49m\u001B[43m \u001B[49m\u001B[43mshape\u001B[49m\u001B[38;5;241;43m=\u001B[39;49m\u001B[43mshape\u001B[49m\u001B[43m,\u001B[49m\u001B[43m \u001B[49m\u001B[43mname\u001B[49m\u001B[38;5;241;43m=\u001B[39;49m\u001B[43mname\u001B[49m\u001B[43m)\u001B[49m\n",
      "File \u001B[0;32m/usr/local/lib/python3.8/dist-packages/tensorflow/python/ops/gen_array_ops.py:6921\u001B[0m, in \u001B[0;36mplaceholder\u001B[0;34m(dtype, shape, name)\u001B[0m\n\u001B[1;32m   6919\u001B[0m \u001B[38;5;28;01mif\u001B[39;00m shape \u001B[38;5;129;01mis\u001B[39;00m \u001B[38;5;28;01mNone\u001B[39;00m:\n\u001B[1;32m   6920\u001B[0m   shape \u001B[38;5;241m=\u001B[39m \u001B[38;5;28;01mNone\u001B[39;00m\n\u001B[0;32m-> 6921\u001B[0m shape \u001B[38;5;241m=\u001B[39m \u001B[43m_execute\u001B[49m\u001B[38;5;241;43m.\u001B[39;49m\u001B[43mmake_shape\u001B[49m\u001B[43m(\u001B[49m\u001B[43mshape\u001B[49m\u001B[43m,\u001B[49m\u001B[43m \u001B[49m\u001B[38;5;124;43m\"\u001B[39;49m\u001B[38;5;124;43mshape\u001B[39;49m\u001B[38;5;124;43m\"\u001B[39;49m\u001B[43m)\u001B[49m\n\u001B[1;32m   6922\u001B[0m _, _, _op, _outputs \u001B[38;5;241m=\u001B[39m _op_def_library\u001B[38;5;241m.\u001B[39m_apply_op_helper(\n\u001B[1;32m   6923\u001B[0m       \u001B[38;5;124m\"\u001B[39m\u001B[38;5;124mPlaceholder\u001B[39m\u001B[38;5;124m\"\u001B[39m, dtype\u001B[38;5;241m=\u001B[39mdtype, shape\u001B[38;5;241m=\u001B[39mshape, name\u001B[38;5;241m=\u001B[39mname)\n\u001B[1;32m   6924\u001B[0m _result \u001B[38;5;241m=\u001B[39m _outputs[:]\n",
      "File \u001B[0;32m/usr/local/lib/python3.8/dist-packages/tensorflow/python/eager/execute.py:202\u001B[0m, in \u001B[0;36mmake_shape\u001B[0;34m(v, arg_name)\u001B[0m\n\u001B[1;32m    200\u001B[0m   shape \u001B[38;5;241m=\u001B[39m tensor_shape\u001B[38;5;241m.\u001B[39mas_shape(v)\n\u001B[1;32m    201\u001B[0m \u001B[38;5;28;01mexcept\u001B[39;00m \u001B[38;5;167;01mTypeError\u001B[39;00m \u001B[38;5;28;01mas\u001B[39;00m e:\n\u001B[0;32m--> 202\u001B[0m   \u001B[38;5;28;01mraise\u001B[39;00m \u001B[38;5;167;01mTypeError\u001B[39;00m(\u001B[38;5;124m\"\u001B[39m\u001B[38;5;124mError converting \u001B[39m\u001B[38;5;132;01m%s\u001B[39;00m\u001B[38;5;124m to a TensorShape: \u001B[39m\u001B[38;5;132;01m%s\u001B[39;00m\u001B[38;5;124m.\u001B[39m\u001B[38;5;124m\"\u001B[39m \u001B[38;5;241m%\u001B[39m (arg_name, e))\n\u001B[1;32m    203\u001B[0m \u001B[38;5;28;01mexcept\u001B[39;00m \u001B[38;5;167;01mValueError\u001B[39;00m \u001B[38;5;28;01mas\u001B[39;00m e:\n\u001B[1;32m    204\u001B[0m   \u001B[38;5;28;01mraise\u001B[39;00m \u001B[38;5;167;01mValueError\u001B[39;00m(\u001B[38;5;124m\"\u001B[39m\u001B[38;5;124mError converting \u001B[39m\u001B[38;5;132;01m%s\u001B[39;00m\u001B[38;5;124m to a TensorShape: \u001B[39m\u001B[38;5;132;01m%s\u001B[39;00m\u001B[38;5;124m.\u001B[39m\u001B[38;5;124m\"\u001B[39m \u001B[38;5;241m%\u001B[39m\n\u001B[1;32m    205\u001B[0m                    (arg_name, e))\n",
      "\u001B[0;31mTypeError\u001B[0m: Error converting shape to a TensorShape: Dimension value must be integer or None or have an __index__ method, got value '(224, 224, 3)' with type '<class 'tuple'>'."
     ]
    }
   ],
   "source": [
    "model = SiameseModel()"
   ],
   "metadata": {
    "collapsed": false,
    "ExecuteTime": {
     "end_time": "2023-05-22T11:53:44.615287969Z",
     "start_time": "2023-05-22T11:53:41.156695011Z"
    }
   }
  },
  {
   "cell_type": "code",
   "execution_count": 17,
   "outputs": [
    {
     "name": "stdout",
     "output_type": "stream",
     "text": [
      "Building  None\n"
     ]
    },
    {
     "ename": "AttributeError",
     "evalue": "The layer \"net_vlad_5\" has never been called and thus has no defined input shape. Note that the `input_shape` property is only available for Functional and Sequential models.",
     "output_type": "error",
     "traceback": [
      "\u001B[0;31m---------------------------------------------------------------------------\u001B[0m",
      "\u001B[0;31mAttributeError\u001B[0m                            Traceback (most recent call last)",
      "Cell \u001B[0;32mIn[17], line 4\u001B[0m\n\u001B[1;32m      1\u001B[0m \u001B[38;5;28;01mfrom\u001B[39;00m \u001B[38;5;21;01mNetVLAD\u001B[39;00m \u001B[38;5;28;01mimport\u001B[39;00m NetVLAD\n\u001B[1;32m      3\u001B[0m \u001B[38;5;28minput\u001B[39m \u001B[38;5;241m=\u001B[39m InputLayer(input_shape\u001B[38;5;241m=\u001B[39m(\u001B[38;5;241m100\u001B[39m, \u001B[38;5;241m100\u001B[39m, \u001B[38;5;241m3\u001B[39m))\n\u001B[0;32m----> 4\u001B[0m netvlad \u001B[38;5;241m=\u001B[39m \u001B[43mNetVLAD\u001B[49m\u001B[43m(\u001B[49m\u001B[43minput_shape\u001B[49m\u001B[38;5;241;43m=\u001B[39;49m\u001B[38;5;28;43minput\u001B[39;49m\u001B[38;5;241;43m.\u001B[39;49m\u001B[43moutput_shape\u001B[49m\u001B[43m[\u001B[49m\u001B[38;5;241;43m1\u001B[39;49m\u001B[43m:\u001B[49m\u001B[43m]\u001B[49m\u001B[43m)\u001B[49m\u001B[43m(\u001B[49m\u001B[38;5;28;43minput\u001B[39;49m\u001B[43m)\u001B[49m\n\u001B[1;32m      6\u001B[0m model \u001B[38;5;241m=\u001B[39m Model(\u001B[38;5;28minput\u001B[39m\u001B[38;5;241m=\u001B[39m\u001B[38;5;28minput\u001B[39m, output\u001B[38;5;241m=\u001B[39mnetvlad)\n",
      "File \u001B[0;32m/usr/local/lib/python3.8/dist-packages/keras/utils/traceback_utils.py:70\u001B[0m, in \u001B[0;36mfilter_traceback.<locals>.error_handler\u001B[0;34m(*args, **kwargs)\u001B[0m\n\u001B[1;32m     67\u001B[0m     filtered_tb \u001B[38;5;241m=\u001B[39m _process_traceback_frames(e\u001B[38;5;241m.\u001B[39m__traceback__)\n\u001B[1;32m     68\u001B[0m     \u001B[38;5;66;03m# To get the full stack trace, call:\u001B[39;00m\n\u001B[1;32m     69\u001B[0m     \u001B[38;5;66;03m# `tf.debugging.disable_traceback_filtering()`\u001B[39;00m\n\u001B[0;32m---> 70\u001B[0m     \u001B[38;5;28;01mraise\u001B[39;00m e\u001B[38;5;241m.\u001B[39mwith_traceback(filtered_tb) \u001B[38;5;28;01mfrom\u001B[39;00m \u001B[38;5;28mNone\u001B[39m\n\u001B[1;32m     71\u001B[0m \u001B[38;5;28;01mfinally\u001B[39;00m:\n\u001B[1;32m     72\u001B[0m     \u001B[38;5;28;01mdel\u001B[39;00m filtered_tb\n",
      "File \u001B[0;32m/tf/notebooks/src/NetVLAD.py:28\u001B[0m, in \u001B[0;36mNetVLAD.build\u001B[0;34m(self, input_shape)\u001B[0m\n\u001B[1;32m     26\u001B[0m \u001B[38;5;28;01mdef\u001B[39;00m \u001B[38;5;21mbuild\u001B[39m(\u001B[38;5;28mself\u001B[39m, input_shape):\n\u001B[1;32m     27\u001B[0m     \u001B[38;5;28mprint\u001B[39m(\u001B[38;5;124m\"\u001B[39m\u001B[38;5;124mBuilding \u001B[39m\u001B[38;5;124m\"\u001B[39m, input_shape)\n\u001B[0;32m---> 28\u001B[0m     \u001B[38;5;28mself\u001B[39m\u001B[38;5;241m.\u001B[39mD \u001B[38;5;241m=\u001B[39m \u001B[38;5;28;43mself\u001B[39;49m\u001B[38;5;241;43m.\u001B[39;49m\u001B[43minput_shape\u001B[49m[\u001B[38;5;241m-\u001B[39m\u001B[38;5;241m1\u001B[39m]\n\u001B[1;32m     29\u001B[0m     \u001B[38;5;28mself\u001B[39m\u001B[38;5;241m.\u001B[39mC \u001B[38;5;241m=\u001B[39m \u001B[38;5;28mself\u001B[39m\u001B[38;5;241m.\u001B[39madd_weight(name\u001B[38;5;241m=\u001B[39m\u001B[38;5;124m'\u001B[39m\u001B[38;5;124mcluster_centers\u001B[39m\u001B[38;5;124m'\u001B[39m,\n\u001B[1;32m     30\u001B[0m                              shape\u001B[38;5;241m=\u001B[39m(\u001B[38;5;241m1\u001B[39m, \u001B[38;5;241m1\u001B[39m, \u001B[38;5;241m1\u001B[39m, \u001B[38;5;28mself\u001B[39m\u001B[38;5;241m.\u001B[39mD, \u001B[38;5;28mself\u001B[39m\u001B[38;5;241m.\u001B[39mK),\n\u001B[1;32m     31\u001B[0m                              initializer\u001B[38;5;241m=\u001B[39m\u001B[38;5;124m'\u001B[39m\u001B[38;5;124mzeros\u001B[39m\u001B[38;5;124m'\u001B[39m,\n\u001B[1;32m     32\u001B[0m                              dtype\u001B[38;5;241m=\u001B[39m\u001B[38;5;124m'\u001B[39m\u001B[38;5;124mfloat32\u001B[39m\u001B[38;5;124m'\u001B[39m,\n\u001B[1;32m     33\u001B[0m                              trainable\u001B[38;5;241m=\u001B[39m\u001B[38;5;28;01mTrue\u001B[39;00m)\n\u001B[1;32m     35\u001B[0m     \u001B[38;5;28mself\u001B[39m\u001B[38;5;241m.\u001B[39mconv \u001B[38;5;241m=\u001B[39m Conv2D(filters\u001B[38;5;241m=\u001B[39m\u001B[38;5;28mself\u001B[39m\u001B[38;5;241m.\u001B[39mK, kernel_size\u001B[38;5;241m=\u001B[39m\u001B[38;5;241m1\u001B[39m, strides\u001B[38;5;241m=\u001B[39m(\u001B[38;5;241m1\u001B[39m, \u001B[38;5;241m1\u001B[39m),\n\u001B[1;32m     36\u001B[0m                        use_bias\u001B[38;5;241m=\u001B[39m\u001B[38;5;28;01mTrue\u001B[39;00m, padding\u001B[38;5;241m=\u001B[39m\u001B[38;5;124m'\u001B[39m\u001B[38;5;124mvalid\u001B[39m\u001B[38;5;124m'\u001B[39m,\n\u001B[1;32m     37\u001B[0m                        kernel_initializer\u001B[38;5;241m=\u001B[39m\u001B[38;5;124m'\u001B[39m\u001B[38;5;124mzeros\u001B[39m\u001B[38;5;124m'\u001B[39m)\n",
      "\u001B[0;31mAttributeError\u001B[0m: The layer \"net_vlad_5\" has never been called and thus has no defined input shape. Note that the `input_shape` property is only available for Functional and Sequential models."
     ]
    }
   ],
   "source": [
    "from NetVLAD import NetVLAD\n",
    "\n",
    "input = InputLayer(input_shape=(100, 100, 3))\n",
    "netvlad = NetVLAD(input_shape=input.output_shape[1:])(input)\n",
    "\n",
    "model = Model(input=input, output=netvlad)\n"
   ],
   "metadata": {
    "collapsed": false,
    "ExecuteTime": {
     "end_time": "2023-05-22T11:09:50.625931098Z",
     "start_time": "2023-05-22T11:09:50.570879154Z"
    }
   }
  },
  {
   "cell_type": "code",
   "execution_count": null,
   "metadata": {
    "ExecuteTime": {
     "start_time": "2023-05-22T10:47:40.108902942Z"
    }
   },
   "outputs": [],
   "source": [
    "print(\"Tensorflow version:\", tf.__version__)\n",
    "gpus = tf.config.experimental.list_physical_devices('GPU')\n",
    "print(\"Num GPUs Available: \", len(gpus))"
   ]
  },
  {
   "cell_type": "code",
   "execution_count": null,
   "metadata": {},
   "outputs": [],
   "source": [
    "BATCH_SIZE = 16\n",
    "train_data = load_data(anchor_images_path=\"/tf/CVUSA/terrestrial\",\n",
    "                       positive_images_path=\"/tf/CVUSA/satellite\",\n",
    "                       batch_size=BATCH_SIZE)\n",
    "visualise(*list(train_data.take(1).as_numpy_iterator())[0])"
   ]
  },
  {
   "cell_type": "code",
   "execution_count": null,
   "metadata": {},
   "outputs": [],
   "source": [
    "# Checkpoint during training\n",
    "model = SiameseModel()\n",
    "model.compile(optimizer=optimizers.Adam(0.001),\n",
    "              weighted_metrics=[])"
   ]
  },
  {
   "cell_type": "code",
   "execution_count": null,
   "metadata": {},
   "outputs": [],
   "source": [
    "model.fit(train_data,\n",
    "          epochs=1)"
   ]
  },
  {
   "cell_type": "code",
   "execution_count": null,
   "metadata": {},
   "outputs": [],
   "source": [
    "tf.saved_model.save(model.siamese_network, \"/tf/notebooks/resnet\")"
   ]
  },
  {
   "cell_type": "code",
   "execution_count": null,
   "outputs": [],
   "source": [
    "model.siamese_network.save(\"/tf/notebooks/resnet_2\")"
   ],
   "metadata": {
    "collapsed": false
   }
  },
  {
   "cell_type": "code",
   "execution_count": null,
   "outputs": [],
   "source": [
    "cvmNet = tf.keras.models.load_model(\"/tf/notebooks/src/trained_models/CVM-Net_model/CVM-NET-I/CVM-Net-I_model\")"
   ],
   "metadata": {
    "collapsed": false
   }
  },
  {
   "cell_type": "code",
   "execution_count": null,
   "metadata": {},
   "outputs": [],
   "source": []
  },
  {
   "cell_type": "code",
   "execution_count": null,
   "outputs": [],
   "source": [],
   "metadata": {
    "collapsed": false
   }
  },
  {
   "cell_type": "code",
   "execution_count": null,
   "outputs": [],
   "source": [],
   "metadata": {
    "collapsed": false
   }
  }
 ],
 "metadata": {
  "kernelspec": {
   "display_name": "Python 3 (ipykernel)",
   "language": "python",
   "name": "python3"
  },
  "language_info": {
   "codemirror_mode": {
    "name": "ipython",
    "version": 3
   },
   "file_extension": ".py",
   "mimetype": "text/x-python",
   "name": "python",
   "nbconvert_exporter": "python",
   "pygments_lexer": "ipython3",
   "version": "3.8.10"
  }
 },
 "nbformat": 4,
 "nbformat_minor": 1
}
