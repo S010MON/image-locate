{
 "cells": [
  {
   "cell_type": "code",
   "execution_count": 5,
   "outputs": [
    {
     "name": "stderr",
     "output_type": "stream",
     "text": [
      "2023-05-12 14:55:29.593367: I tensorflow/core/platform/cpu_feature_guard.cc:182] This TensorFlow binary is optimized to use available CPU instructions in performance-critical operations.\n",
      "To enable the following instructions: AVX2 FMA, in other operations, rebuild TensorFlow with the appropriate compiler flags.\n"
     ]
    }
   ],
   "source": [
    "import os\n",
    "import cv2\n",
    "import numpy as np\n",
    "os.chdir(\"/tf/notebooks/src\")\n",
    "from utils import polar, display"
   ],
   "metadata": {
    "collapsed": false,
    "ExecuteTime": {
     "end_time": "2023-05-12T14:55:30.691499959Z",
     "start_time": "2023-05-12T14:55:29.444822715Z"
    }
   }
  },
  {
   "cell_type": "code",
   "execution_count": null,
   "outputs": [],
   "source": [
    "file_name = \"aaelw.jpg\"\n",
    "img_sat = cv2.imread(\"/tf/CVUSA/satellite/\"+file_name)\n",
    "img_sat = cv2.cvtColor(img_sat, cv2.COLOR_BGR2RGB)\n",
    "display([img_sat, polar(img_sat)])"
   ],
   "metadata": {
    "collapsed": false,
    "is_executing": true,
    "ExecuteTime": {
     "start_time": "2023-05-12T14:55:31.497624512Z"
    }
   }
  },
  {
   "cell_type": "code",
   "execution_count": 32,
   "outputs": [
    {
     "name": "stdout",
     "output_type": "stream",
     "text": [
      "################################################################################################## 98.0%"
     ]
    }
   ],
   "source": [
    "# This script runs through a given directory, polar transforms all the images and then writes them\n",
    "# to the destination.  Doing it once offline seems more efficient than for every training step.\n",
    "\n",
    "dest = \"/tf/CVUSA/satellite_polar/\"\n",
    "\n",
    "files = os.listdir(\"/tf/CVUSA/satellite\")\n",
    "total = len(files)\n",
    "count = 0\n",
    "print(\"Total: \", total, end=\"\")\n",
    "\n",
    "for file_name in files:\n",
    "    img_sat = cv2.imread(\"/tf/CVUSA/satellite/\" + file_name)\n",
    "    img_sat = cv2.cvtColor(img_sat, cv2.COLOR_BGR2RGB)\n",
    "    img_pol = np.multiply(polar(img_sat), 255)\n",
    "    cv2.imwrite(dest + file_name, img_pol)\n",
    "\n",
    "    count += 1\n",
    "    if count % 100 == 0:\n",
    "        percent = round((float(count)/float(total))*100, 0)\n",
    "        print(f\"\\r{'#' * int(percent)} {percent}%\", end=\"\")\n"
   ],
   "metadata": {
    "collapsed": false,
    "ExecuteTime": {
     "start_time": "2023-05-07T12:14:22.055154Z",
     "end_time": "2023-05-07T12:35:32.702128Z"
    }
   }
  }
 ],
 "metadata": {
  "kernelspec": {
   "display_name": "Python 3",
   "language": "python",
   "name": "python3"
  },
  "language_info": {
   "codemirror_mode": {
    "name": "ipython",
    "version": 2
   },
   "file_extension": ".py",
   "mimetype": "text/x-python",
   "name": "python",
   "nbconvert_exporter": "python",
   "pygments_lexer": "ipython2",
   "version": "2.7.6"
  }
 },
 "nbformat": 4,
 "nbformat_minor": 0
}
